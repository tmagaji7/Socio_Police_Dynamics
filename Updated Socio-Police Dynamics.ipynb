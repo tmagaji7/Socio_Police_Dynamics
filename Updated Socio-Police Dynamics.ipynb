{
 "cells": [
  {
   "cell_type": "code",
   "execution_count": 1,
   "id": "b5cfe93f",
   "metadata": {},
   "outputs": [],
   "source": [
    "#DATAFRAMES"
   ]
  },
  {
   "cell_type": "code",
   "execution_count": 70,
   "id": "ad746d24",
   "metadata": {},
   "outputs": [],
   "source": [
    "import pandas as pd\n",
    "import numpy as np\n",
    "import matplotlib.pyplot as plt\n",
    "import seaborn as sns\n",
    "import plotly.express as px"
   ]
  },
  {
   "cell_type": "code",
   "execution_count": 71,
   "id": "dca00e90",
   "metadata": {},
   "outputs": [
    {
     "name": "stdout",
     "output_type": "stream",
     "text": [
      "   id                 name        date   manner_of_death       armed   age  \\\n",
      "0   3           Tim Elliot  02-01-2015              shot         gun  53.0   \n",
      "1   4     Lewis Lee Lembke  02-01-2015              shot         gun  47.0   \n",
      "2   5   John Paul Quintero  03-01-2015  shot and Tasered     unarmed  23.0   \n",
      "3   8      Matthew Hoffman  04-01-2015              shot  toy weapon  32.0   \n",
      "4   9    Michael Rodriguez  04-01-2015              shot    nail gun  39.0   \n",
      "5  11    Kenneth Joe Brown  04-01-2015              shot         gun  18.0   \n",
      "6  13  Kenneth Arnold Buck  05-01-2015              shot         gun  22.0   \n",
      "7  15        Brock Nichols  06-01-2015              shot         gun  35.0   \n",
      "8  16        Autumn Steele  06-01-2015              shot     unarmed  34.0   \n",
      "9  17      Leslie Sapp III  06-01-2015              shot  toy weapon  47.0   \n",
      "\n",
      "  gender race           city state  signs_of_mental_illness threat_level  \\\n",
      "0      M    A        Shelton    WA                     True       attack   \n",
      "1      M    W          Aloha    OR                    False       attack   \n",
      "2      M    H        Wichita    KS                    False        other   \n",
      "3      M    W  San Francisco    CA                     True       attack   \n",
      "4      M    H          Evans    CO                    False       attack   \n",
      "5      M    W        Guthrie    OK                    False       attack   \n",
      "6      M    H       Chandler    AZ                    False       attack   \n",
      "7      M    W        Assaria    KS                    False       attack   \n",
      "8      F    W     Burlington    IA                    False        other   \n",
      "9      M    B      Knoxville    PA                    False       attack   \n",
      "\n",
      "          flee  body_camera  \n",
      "0  Not fleeing        False  \n",
      "1  Not fleeing        False  \n",
      "2  Not fleeing        False  \n",
      "3  Not fleeing        False  \n",
      "4  Not fleeing        False  \n",
      "5  Not fleeing        False  \n",
      "6          Car        False  \n",
      "7  Not fleeing        False  \n",
      "8  Not fleeing         True  \n",
      "9  Not fleeing        False  \n"
     ]
    }
   ],
   "source": [
    "#Deaths by Police Dataset\n",
    "csv_file_path = r\"Fatal_Force\\Deaths_by_Police_US.csv\"\n",
    "deaths_by_police = pd.read_csv(csv_file_path, encoding='iso-8859-1')\n",
    "print(deaths_by_police.head(10))"
   ]
  },
  {
   "cell_type": "code",
   "execution_count": 72,
   "id": "70c16a2b",
   "metadata": {},
   "outputs": [
    {
     "data": {
      "text/plain": [
       "Index(['id', 'name', 'date', 'manner_of_death', 'armed', 'age', 'gender',\n",
       "       'race', 'city', 'state', 'signs_of_mental_illness', 'threat_level',\n",
       "       'flee', 'body_camera'],\n",
       "      dtype='object')"
      ]
     },
     "execution_count": 72,
     "metadata": {},
     "output_type": "execute_result"
    }
   ],
   "source": [
    "#Columns names:Deaths by Police \n",
    "deaths_by_police.columns"
   ]
  },
  {
   "cell_type": "code",
   "execution_count": 73,
   "id": "3b7c9d05",
   "metadata": {},
   "outputs": [
    {
     "name": "stdout",
     "output_type": "stream",
     "text": [
      "2535\n"
     ]
    }
   ],
   "source": [
    "#Number of rows in deaths by police\n",
    "row,col=deaths_by_police.shape\n",
    "print(row)"
   ]
  },
  {
   "cell_type": "code",
   "execution_count": 74,
   "id": "70a22a9b",
   "metadata": {},
   "outputs": [
    {
     "name": "stdout",
     "output_type": "stream",
     "text": [
      "  Geographic Area                 City Median Income\n",
      "0              AL           Abanda CDP         11207\n",
      "1              AL       Abbeville city         25615\n",
      "2              AL      Adamsville city         42575\n",
      "3              AL         Addison town         37083\n",
      "4              AL           Akron town         21667\n",
      "5              AL       Alabaster city         71816\n",
      "6              AL     Albertville city         32911\n",
      "7              AL  Alexander City city         29874\n",
      "8              AL       Alexandria CDP         56058\n",
      "9              AL      Aliceville city         21131\n"
     ]
    }
   ],
   "source": [
    "#Median Household Income Dataset\n",
    "import pandas as pd\n",
    "csv_file_path = r\"Fatal_Force\\Median_Household_Income_2015.csv\"\n",
    "median_household_income = pd.read_csv(csv_file_path, encoding='iso-8859-1')\n",
    "print(median_household_income.head(10))"
   ]
  },
  {
   "cell_type": "code",
   "execution_count": 75,
   "id": "27257ed1",
   "metadata": {},
   "outputs": [
    {
     "data": {
      "text/plain": [
       "Index(['Geographic Area', 'City', 'Median Income'], dtype='object')"
      ]
     },
     "execution_count": 75,
     "metadata": {},
     "output_type": "execute_result"
    }
   ],
   "source": [
    "#Columns in dataset\n",
    "median_household_income.columns"
   ]
  },
  {
   "cell_type": "code",
   "execution_count": 76,
   "id": "c7c94193",
   "metadata": {},
   "outputs": [
    {
     "name": "stdout",
     "output_type": "stream",
     "text": [
      "  Geographic Area             City percent_completed_hs\n",
      "0              AL       Abanda CDP                 21.2\n",
      "1              AL   Abbeville city                 69.1\n",
      "2              AL  Adamsville city                 78.9\n",
      "3              AL     Addison town                 81.4\n",
      "4              AL       Akron town                 68.6\n"
     ]
    }
   ],
   "source": [
    "#Over 25 high school dataset\n",
    "import pandas as pd\n",
    "csv_file_path = r\"Fatal_Force\\Pct_Over_25_Completed_High_School.csv\"\n",
    "over_25_high_school = pd.read_csv(csv_file_path, encoding='iso-8859-1')\n",
    "print(over_25_high_school.head())"
   ]
  },
  {
   "cell_type": "code",
   "execution_count": 77,
   "id": "07ae50dd",
   "metadata": {},
   "outputs": [
    {
     "data": {
      "text/plain": [
       "Index(['Geographic Area', 'City', 'percent_completed_hs'], dtype='object')"
      ]
     },
     "execution_count": 77,
     "metadata": {},
     "output_type": "execute_result"
    }
   ],
   "source": [
    "#Over 25 high school dataset columns\n",
    "over_25_high_school.columns"
   ]
  },
  {
   "cell_type": "code",
   "execution_count": 78,
   "id": "262b54bc",
   "metadata": {},
   "outputs": [
    {
     "name": "stdout",
     "output_type": "stream",
     "text": [
      "  Geographic Area             City poverty_rate\n",
      "0              AL       Abanda CDP         78.8\n",
      "1              AL   Abbeville city         29.1\n",
      "2              AL  Adamsville city         25.5\n",
      "3              AL     Addison town         30.7\n",
      "4              AL       Akron town           42\n"
     ]
    }
   ],
   "source": [
    "#Poverty Level\n",
    "import pandas as pd\n",
    "csv_file_path = r\"Fatal_Force\\Pct_People_Below_Poverty_Level.csv\"\n",
    "pct_people_below_poverty_level = pd.read_csv(csv_file_path, encoding='iso-8859-1')\n",
    "print(pct_people_below_poverty_level.head())"
   ]
  },
  {
   "cell_type": "code",
   "execution_count": 79,
   "id": "983309de",
   "metadata": {},
   "outputs": [
    {
     "data": {
      "text/plain": [
       "Index(['Geographic Area', 'City', 'poverty_rate'], dtype='object')"
      ]
     },
     "execution_count": 79,
     "metadata": {},
     "output_type": "execute_result"
    }
   ],
   "source": [
    "pct_people_below_poverty_level.columns"
   ]
  },
  {
   "cell_type": "code",
   "execution_count": 80,
   "id": "5b332660",
   "metadata": {},
   "outputs": [
    {
     "name": "stdout",
     "output_type": "stream",
     "text": [
      "  Geographic area             City share_white share_black  \\\n",
      "0              AL       Abanda CDP        67.2        30.2   \n",
      "1              AL   Abbeville city        54.4        41.4   \n",
      "2              AL  Adamsville city        52.3        44.9   \n",
      "3              AL     Addison town        99.1         0.1   \n",
      "4              AL       Akron town        13.2        86.5   \n",
      "\n",
      "  share_native_american share_asian share_hispanic  \n",
      "0                     0           0            1.6  \n",
      "1                   0.1           1            3.1  \n",
      "2                   0.5         0.3            2.3  \n",
      "3                     0         0.1            0.4  \n",
      "4                     0           0            0.3  \n"
     ]
    }
   ],
   "source": [
    "#Share of race by city\n",
    "import pandas as pd\n",
    "csv_file_path = r\"Fatal_Force\\Share_of_Race_By_City.csv\"\n",
    "share_of_race_by_city = pd.read_csv(csv_file_path, encoding='iso-8859-1')\n",
    "print(share_of_race_by_city.head())\n"
   ]
  },
  {
   "cell_type": "code",
   "execution_count": 81,
   "id": "92923aeb",
   "metadata": {},
   "outputs": [
    {
     "data": {
      "text/plain": [
       "Index(['Geographic area', 'City', 'share_white', 'share_black',\n",
       "       'share_native_american', 'share_asian', 'share_hispanic'],\n",
       "      dtype='object')"
      ]
     },
     "execution_count": 81,
     "metadata": {},
     "output_type": "execute_result"
    }
   ],
   "source": [
    "share_of_race_by_city.columns"
   ]
  },
  {
   "cell_type": "code",
   "execution_count": 82,
   "id": "2ba6e2d1",
   "metadata": {},
   "outputs": [
    {
     "name": "stdout",
     "output_type": "stream",
     "text": [
      "      Geographic Area                    City percent_completed_hs\n",
      "0                  AL              Abanda CDP                 21.2\n",
      "1                  AL          Abbeville city                 69.1\n",
      "2                  AL         Adamsville city                 78.9\n",
      "3                  AL            Addison town                 81.4\n",
      "4                  AL              Akron town                 68.6\n",
      "...               ...                     ...                  ...\n",
      "29324              WY  Woods Landing-Jelm CDP                  100\n",
      "29325              WY            Worland city                 85.6\n",
      "29326              WY             Wright town                 89.2\n",
      "29327              WY              Yoder town                 79.4\n",
      "29328              WY           Y-O Ranch CDP                  100\n",
      "\n",
      "[29329 rows x 3 columns]\n",
      "      Geographic Area             City Median Income\n",
      "0                  AL       Abanda CDP         11207\n",
      "1                  AL   Abbeville city         25615\n",
      "2                  AL  Adamsville city         42575\n",
      "3                  AL     Addison town         37083\n",
      "4                  AL       Akron town         21667\n",
      "...               ...              ...           ...\n",
      "29314              WY   Wheatland town         34984\n",
      "29316              WY       Wilson CDP         94792\n",
      "29318              WY     Worland city         41523\n",
      "29319              WY      Wright town         77114\n",
      "29320              WY       Yoder town         37500\n",
      "\n",
      "[29271 rows x 3 columns]\n",
      "      Geographic Area                    City poverty_rate\n",
      "0                  AL              Abanda CDP         78.8\n",
      "1                  AL          Abbeville city         29.1\n",
      "2                  AL         Adamsville city         25.5\n",
      "3                  AL            Addison town         30.7\n",
      "4                  AL              Akron town           42\n",
      "...               ...                     ...          ...\n",
      "29324              WY  Woods Landing-Jelm CDP         18.6\n",
      "29325              WY            Worland city         15.3\n",
      "29326              WY             Wright town          5.9\n",
      "29327              WY              Yoder town          5.4\n",
      "29328              WY           Y-O Ranch CDP            0\n",
      "\n",
      "[29329 rows x 3 columns]\n",
      "        id                name        date   manner_of_death         armed  \\\n",
      "0        3          Tim Elliot  02-01-2015              shot           gun   \n",
      "1        4    Lewis Lee Lembke  02-01-2015              shot           gun   \n",
      "2        5  John Paul Quintero  03-01-2015  shot and Tasered       unarmed   \n",
      "3        8     Matthew Hoffman  04-01-2015              shot    toy weapon   \n",
      "4        9   Michael Rodriguez  04-01-2015              shot      nail gun   \n",
      "...    ...                 ...         ...               ...           ...   \n",
      "2519  2805         Aries Clark  25-07-2017              shot  undetermined   \n",
      "2523  2808   Kesharn K. Burney  26-07-2017              shot       vehicle   \n",
      "2525  2820    Deltra Henderson  27-07-2017              shot           gun   \n",
      "2533  2817       Isaiah Tucker  31-07-2017              shot       vehicle   \n",
      "2534  2815        Dwayne Jeune  31-07-2017              shot         knife   \n",
      "\n",
      "       age gender race           city state  signs_of_mental_illness  \\\n",
      "0     53.0      M    A        Shelton    WA                     True   \n",
      "1     47.0      M    W          Aloha    OR                    False   \n",
      "2     23.0      M    H        Wichita    KS                    False   \n",
      "3     32.0      M    W  San Francisco    CA                     True   \n",
      "4     39.0      M    H          Evans    CO                    False   \n",
      "...    ...    ...  ...            ...   ...                      ...   \n",
      "2519  16.0      M    B         Marion    AR                    False   \n",
      "2523  25.0      M    B         Dayton    OH                    False   \n",
      "2525  39.0      M    B          Homer    LA                    False   \n",
      "2533  28.0      M    B        Oshkosh    WI                    False   \n",
      "2534  32.0      M    B       Brooklyn    NY                     True   \n",
      "\n",
      "      threat_level         flee  body_camera  \n",
      "0           attack  Not fleeing        False  \n",
      "1           attack  Not fleeing        False  \n",
      "2            other  Not fleeing        False  \n",
      "3           attack  Not fleeing        False  \n",
      "4           attack  Not fleeing        False  \n",
      "...            ...          ...          ...  \n",
      "2519  undetermined  Not fleeing        False  \n",
      "2523        attack          Car        False  \n",
      "2525        attack          Car        False  \n",
      "2533        attack          Car         True  \n",
      "2534        attack  Not fleeing        False  \n",
      "\n",
      "[2254 rows x 14 columns]\n",
      "      Geographic area                    City share_white share_black  \\\n",
      "0                  AL              Abanda CDP        67.2        30.2   \n",
      "1                  AL          Abbeville city        54.4        41.4   \n",
      "2                  AL         Adamsville city        52.3        44.9   \n",
      "3                  AL            Addison town        99.1         0.1   \n",
      "4                  AL              Akron town        13.2        86.5   \n",
      "...               ...                     ...         ...         ...   \n",
      "29263              WY  Woods Landing-Jelm CDP        95.9           0   \n",
      "29264              WY            Worland city        89.9         0.3   \n",
      "29265              WY             Wright town        94.5         0.1   \n",
      "29266              WY              Yoder town        97.4           0   \n",
      "29267              WY           Y-O Ranch CDP        92.8         1.5   \n",
      "\n",
      "      share_native_american share_asian share_hispanic  \n",
      "0                         0           0            1.6  \n",
      "1                       0.1           1            3.1  \n",
      "2                       0.5         0.3            2.3  \n",
      "3                         0         0.1            0.4  \n",
      "4                         0           0            0.3  \n",
      "...                     ...         ...            ...  \n",
      "29263                     0         2.1              0  \n",
      "29264                   1.3         0.6           16.6  \n",
      "29265                   1.4         0.2            6.2  \n",
      "29266                     0           0              4  \n",
      "29267                   2.6           0           11.8  \n",
      "\n",
      "[29268 rows x 7 columns]\n"
     ]
    }
   ],
   "source": [
    "#Drop Duplicates and Dropna\n",
    "import numpy as np\n",
    "import pandas as pd\n",
    "\n",
    "dataframes = [\n",
    "    over_25_high_school,\n",
    "    median_household_income,\n",
    "    pct_people_below_poverty_level,\n",
    "    deaths_by_police,\n",
    "    share_of_race_by_city,\n",
    "]\n",
    "\n",
    "for df in dataframes:\n",
    "    df.dropna(inplace=True)\n",
    "    df.drop_duplicates(inplace=True)\n",
    "    print(df)"
   ]
  },
  {
   "cell_type": "code",
   "execution_count": 83,
   "id": "c70e3a8e",
   "metadata": {},
   "outputs": [
    {
     "name": "stdout",
     "output_type": "stream",
     "text": [
      "        id                name       date   manner_of_death         armed  \\\n",
      "0        3          Tim Elliot 2015-02-01              shot           gun   \n",
      "1        4    Lewis Lee Lembke 2015-02-01              shot           gun   \n",
      "2        5  John Paul Quintero 2015-03-01  shot and Tasered       unarmed   \n",
      "3        8     Matthew Hoffman 2015-04-01              shot    toy weapon   \n",
      "4        9   Michael Rodriguez 2015-04-01              shot      nail gun   \n",
      "...    ...                 ...        ...               ...           ...   \n",
      "2519  2805         Aries Clark 2017-07-25              shot  undetermined   \n",
      "2523  2808   Kesharn K. Burney 2017-07-26              shot       vehicle   \n",
      "2525  2820    Deltra Henderson 2017-07-27              shot           gun   \n",
      "2533  2817       Isaiah Tucker 2017-07-31              shot       vehicle   \n",
      "2534  2815        Dwayne Jeune 2017-07-31              shot         knife   \n",
      "\n",
      "       age gender race           city state  signs_of_mental_illness  \\\n",
      "0     53.0      M    A        Shelton    WA                     True   \n",
      "1     47.0      M    W          Aloha    OR                    False   \n",
      "2     23.0      M    H        Wichita    KS                    False   \n",
      "3     32.0      M    W  San Francisco    CA                     True   \n",
      "4     39.0      M    H          Evans    CO                    False   \n",
      "...    ...    ...  ...            ...   ...                      ...   \n",
      "2519  16.0      M    B         Marion    AR                    False   \n",
      "2523  25.0      M    B         Dayton    OH                    False   \n",
      "2525  39.0      M    B          Homer    LA                    False   \n",
      "2533  28.0      M    B        Oshkosh    WI                    False   \n",
      "2534  32.0      M    B       Brooklyn    NY                     True   \n",
      "\n",
      "      threat_level         flee  body_camera  \n",
      "0           attack  Not fleeing        False  \n",
      "1           attack  Not fleeing        False  \n",
      "2            other  Not fleeing        False  \n",
      "3           attack  Not fleeing        False  \n",
      "4           attack  Not fleeing        False  \n",
      "...            ...          ...          ...  \n",
      "2519  undetermined  Not fleeing        False  \n",
      "2523        attack          Car        False  \n",
      "2525        attack          Car        False  \n",
      "2533        attack          Car         True  \n",
      "2534        attack  Not fleeing        False  \n",
      "\n",
      "[2254 rows x 14 columns]\n"
     ]
    },
    {
     "name": "stderr",
     "output_type": "stream",
     "text": [
      "C:\\Users\\Tissa Maria\\AppData\\Local\\Temp\\ipykernel_10472\\1563309613.py:2: UserWarning:\n",
      "\n",
      "Parsing dates in DD/MM/YYYY format when dayfirst=False (the default) was specified. This may lead to inconsistently parsed dates! Specify a format to ensure consistent parsing.\n",
      "\n"
     ]
    }
   ],
   "source": [
    "#Format datetime\n",
    "deaths_by_police['date'] = pd.to_datetime(deaths_by_police['date'])\n",
    "print(deaths_by_police)"
   ]
  },
  {
   "cell_type": "code",
   "execution_count": 16,
   "id": "1b051e98",
   "metadata": {},
   "outputs": [],
   "source": [
    "#DEATHS_BY_POLICE + TIME"
   ]
  },
  {
   "cell_type": "code",
   "execution_count": 84,
   "id": "0f47ec67",
   "metadata": {},
   "outputs": [
    {
     "name": "stdout",
     "output_type": "stream",
     "text": [
      "Incidents by Year:\n",
      "   Year  Incident Count\n",
      "0  2015             947\n",
      "1  2016             873\n",
      "2  2017             434\n",
      "\n",
      "Incidents by Month:\n",
      "        Month  Incident Count\n",
      "1     January             218\n",
      "2    February             217\n",
      "0       March             229\n",
      "3       April             209\n",
      "4         May             204\n",
      "5        June             190\n",
      "6        July             185\n",
      "7      August             167\n",
      "9   September             163\n",
      "8     October             166\n",
      "10   November             161\n",
      "11   December             145\n"
     ]
    }
   ],
   "source": [
    "deaths_by_police['date'] = pd.to_datetime(deaths_by_police['date'], format='%d-%m-%Y')\n",
    "# YEAR-WISE\n",
    "incidents_by_year = deaths_by_police['date'].dt.year.value_counts().reset_index()\n",
    "incidents_by_year.columns = ['Year', 'Incident Count']\n",
    "incidents_by_year = incidents_by_year.sort_values(by='Year')  # Sort by year\n",
    "# MONTH-WISE\n",
    "deaths_by_police['month'] = deaths_by_police['date'].dt.month_name()  # Get month names\n",
    "incidents_by_month = deaths_by_police['month'].value_counts().reset_index()\n",
    "incidents_by_month.columns = ['Month', 'Incident Count']\n",
    "incidents_by_month = incidents_by_month.sort_values(by='Month', key=lambda x: pd.to_datetime(x, format='%B'))  \n",
    "print(\"Incidents by Year:\")\n",
    "print(incidents_by_year)\n",
    "print(\"\\nIncidents by Month:\")\n",
    "print(incidents_by_month)"
   ]
  },
  {
   "cell_type": "code",
   "execution_count": 85,
   "id": "fdcb5a58",
   "metadata": {},
   "outputs": [
    {
     "data": {
      "image/png": "[encoded data removed]",
      "text/plain": [
       "<Figure size 1200x600 with 1 Axes>"
      ]
     },
     "metadata": {},
     "output_type": "display_data"
    }
   ],
   "source": [
    "#Time Series Analysis\n",
    "import pandas as pd\n",
    "import matplotlib.pyplot as plt\n",
    "deaths_by_police['year_month'] = deaths_by_police['date'].dt.to_period('M')\n",
    "monthly_counts = deaths_by_police.groupby('year_month').size()\n",
    "monthly_counts = monthly_counts.reset_index(name='death_count')\n",
    "monthly_counts.plot(x='year_month', y='death_count', kind='line', marker='*', figsize=(12, 6),title='Monthly Death Counts Over Three Years',\n",
    "legend=False,xlabel='Year-Month',ylabel='Death Count',grid=True\n",
    ")\n",
    "plt.show()"
   ]
  },
  {
   "cell_type": "code",
   "execution_count": 20,
   "id": "3cba53d7",
   "metadata": {},
   "outputs": [],
   "source": [
    "#STATES + DEATHS BY POLICE"
   ]
  },
  {
   "cell_type": "code",
   "execution_count": 86,
   "id": "81cb3c35",
   "metadata": {},
   "outputs": [
    {
     "name": "stdout",
     "output_type": "stream",
     "text": [
      "   state  count\n",
      "0     AK     14\n",
      "1     AL     45\n",
      "2     AR     20\n",
      "3     AZ    105\n",
      "4     CA    366\n",
      "5     CO     63\n",
      "6     CT      7\n",
      "7     DC     11\n",
      "8     DE      8\n",
      "9     FL    136\n",
      "10    GA     61\n",
      "11    HI     11\n",
      "12    IA     12\n",
      "13    ID     14\n",
      "14    IL     56\n",
      "15    IN     40\n",
      "16    KS     24\n",
      "17    KY     40\n",
      "18    LA     47\n",
      "19    MA     22\n",
      "20    MD     36\n",
      "21    ME     10\n",
      "22    MI     36\n",
      "23    MN     31\n",
      "24    MO     58\n",
      "25    MS     22\n",
      "26    MT     11\n",
      "27    NC     66\n",
      "28    ND      4\n",
      "29    NE     14\n",
      "30    NH      7\n",
      "31    NJ     30\n",
      "32    NM     41\n",
      "33    NV     34\n",
      "34    NY     43\n",
      "35    OH     70\n",
      "36    OK     65\n",
      "37    OR     32\n",
      "38    PA     45\n",
      "39    RI      2\n",
      "40    SC     41\n",
      "41    SD      9\n",
      "42    TN     56\n",
      "43    TX    200\n",
      "44    UT     22\n",
      "45    VA     43\n",
      "46    VT      3\n",
      "47    WA     51\n",
      "48    WI     42\n",
      "49    WV     21\n",
      "50    WY      7\n"
     ]
    }
   ],
   "source": [
    "deaths_per_state = deaths_by_police.groupby(['state'], as_index=False)['name'].count()\n",
    "deaths_per_state.rename(columns={'name': 'count'}, inplace=True)\n",
    "print(deaths_per_state)"
   ]
  },
  {
   "cell_type": "code",
   "execution_count": 87,
   "id": "69d4c142",
   "metadata": {},
   "outputs": [
    {
     "data": {
      "application/vnd.plotly.v1+json": {
       "config": {
        "plotlyServerURL": "https://plot.ly"
       },
       "data": [
        {
         "coloraxis": "coloraxis",
         "geo": "geo",
         "hovertemplate": "<b>%{hovertext}</b><br><br>state=%{location}<br>count=%{z}<extra></extra>",
         "hovertext": [
          "AK",
          "AL",
          "AR",
          "AZ",
          "CA",
          "CO",
          "CT",
          "DC",
          "DE",
          "FL",
          "GA",
          "HI",
          "IA",
          "ID",
          "IL",
          "IN",
          "KS",
          "KY",
          "LA",
          "MA",
          "MD",
          "ME",
          "MI",
          "MN",
          "MO",
          "MS",
          "MT",
          "NC",
          "ND",
          "NE",
          "NH",
          "NJ",
          "NM",
          "NV",
          "NY",
          "OH",
          "OK",
          "OR",
          "PA",
          "RI",
          "SC",
          "SD",
          "TN",
          "TX",
          "UT",
          "VA",
          "VT",
          "WA",
          "WI",
          "WV",
          "WY"
         ],
         "locationmode": "USA-states",
         "locations": [
          "AK",
          "AL",
          "AR",
          "AZ",
          "CA",
          "CO",
          "CT",
          "DC",
          "DE",
          "FL",
          "GA",
          "HI",
          "IA",
          "ID",
          "IL",
          "IN",
          "KS",
          "KY",
          "LA",
          "MA",
          "MD",
          "ME",
          "MI",
          "MN",
          "MO",
          "MS",
          "MT",
          "NC",
          "ND",
          "NE",
          "NH",
          "NJ",
          "NM",
          "NV",
          "NY",
          "OH",
          "OK",
          "OR",
          "PA",
          "RI",
          "SC",
          "SD",
          "TN",
          "TX",
          "UT",
          "VA",
          "VT",
          "WA",
          "WI",
          "WV",
          "WY"
         ],
         "name": "",
         "type": "choropleth",
         "z": [
          14,
          45,
          20,
          105,
          366,
          63,
          7,
          11,
          8,
          136,
          61,
          11,
          12,
          14,
          56,
          40,
          24,
          40,
          47,
          22,
          36,
          10,
          36,
          31,
          58,
          22,
          11,
          66,
          4,
          14,
          7,
          30,
          41,
          34,
          43,
          70,
          65,
          32,
          45,
          2,
          41,
          9,
          56,
          200,
          22,
          43,
          3,
          51,
          42,
          21,
          7
         ]
        }
       ],
       "layout": {
        "coloraxis": {
         "colorbar": {
          "title": {
           "text": "count"
          }
         },
         "colorscale": [
          [
           0,
           "#440154"
          ],
          [
           0.1111111111111111,
           "#482878"
          ],
          [
           0.2222222222222222,
           "#3e4989"
          ],
          [
           0.3333333333333333,
           "#31688e"
          ],
          [
           0.4444444444444444,
           "#26828e"
          ],
          [
           0.5555555555555556,
           "#1f9e89"
          ],
          [
           0.6666666666666666,
           "#35b779"
          ],
          [
           0.7777777777777778,
           "#6ece58"
          ],
          [
           0.8888888888888888,
           "#b5de2b"
          ],
          [
           1,
           "#fde725"
          ]
         ]
        },
        "geo": {
         "center": {},
         "domain": {
          "x": [
           0,
           1
          ],
          "y": [
           0,
           1
          ]
         },
         "scope": "usa"
        },
        "legend": {
         "tracegroupgap": 0
        },
        "template": {
         "data": {
          "bar": [
           {
            "error_x": {
             "color": "#2a3f5f"
            },
            "error_y": {
             "color": "#2a3f5f"
            },
            "marker": {
             "line": {
              "color": "#E5ECF6",
              "width": 0.5
             },
             "pattern": {
              "fillmode": "overlay",
              "size": 10,
              "solidity": 0.2
             }
            },
            "type": "bar"
           }
          ],
          "barpolar": [
           {
            "marker": {
             "line": {
              "color": "#E5ECF6",
              "width": 0.5
             },
             "pattern": {
              "fillmode": "overlay",
              "size": 10,
              "solidity": 0.2
             }
            },
            "type": "barpolar"
           }
          ],
          "carpet": [
           {
            "aaxis": {
             "endlinecolor": "#2a3f5f",
             "gridcolor": "white",
             "linecolor": "white",
             "minorgridcolor": "white",
             "startlinecolor": "#2a3f5f"
            },
            "baxis": {
             "endlinecolor": "#2a3f5f",
             "gridcolor": "white",
             "linecolor": "white",
             "minorgridcolor": "white",
             "startlinecolor": "#2a3f5f"
            },
            "type": "carpet"
           }
          ],
          "choropleth": [
           {
            "colorbar": {
             "outlinewidth": 0,
             "ticks": ""
            },
            "type": "choropleth"
           }
          ],
          "contour": [
           {
            "colorbar": {
             "outlinewidth": 0,
             "ticks": ""
            },
            "colorscale": [
             [
              0,
              "#0d0887"
             ],
             [
              0.1111111111111111,
              "#46039f"
             ],
             [
              0.2222222222222222,
              "#7201a8"
             ],
             [
              0.3333333333333333,
              "#9c179e"
             ],
             [
              0.4444444444444444,
              "#bd3786"
             ],
             [
              0.5555555555555556,
              "#d8576b"
             ],
             [
              0.6666666666666666,
              "#ed7953"
             ],
             [
              0.7777777777777778,
              "#fb9f3a"
             ],
             [
              0.8888888888888888,
              "#fdca26"
             ],
             [
              1,
              "#f0f921"
             ]
            ],
            "type": "contour"
           }
          ],
          "contourcarpet": [
           {
            "colorbar": {
             "outlinewidth": 0,
             "ticks": ""
            },
            "type": "contourcarpet"
           }
          ],
          "heatmap": [
           {
            "colorbar": {
             "outlinewidth": 0,
             "ticks": ""
            },
            "colorscale": [
             [
              0,
              "#0d0887"
             ],
             [
              0.1111111111111111,
              "#46039f"
             ],
             [
              0.2222222222222222,
              "#7201a8"
             ],
             [
              0.3333333333333333,
              "#9c179e"
             ],
             [
              0.4444444444444444,
              "#bd3786"
             ],
             [
              0.5555555555555556,
              "#d8576b"
             ],
             [
              0.6666666666666666,
              "#ed7953"
             ],
             [
              0.7777777777777778,
              "#fb9f3a"
             ],
             [
              0.8888888888888888,
              "#fdca26"
             ],
             [
              1,
              "#f0f921"
             ]
            ],
            "type": "heatmap"
           }
          ],
          "heatmapgl": [
           {
            "colorbar": {
             "outlinewidth": 0,
             "ticks": ""
            },
            "colorscale": [
             [
              0,
              "#0d0887"
             ],
             [
              0.1111111111111111,
              "#46039f"
             ],
             [
              0.2222222222222222,
              "#7201a8"
             ],
             [
              0.3333333333333333,
              "#9c179e"
             ],
             [
              0.4444444444444444,
              "#bd3786"
             ],
             [
              0.5555555555555556,
              "#d8576b"
             ],
             [
              0.6666666666666666,
              "#ed7953"
             ],
             [
              0.7777777777777778,
              "#fb9f3a"
             ],
             [
              0.8888888888888888,
              "#fdca26"
             ],
             [
              1,
              "#f0f921"
             ]
            ],
            "type": "heatmapgl"
           }
          ],
          "histogram": [
           {
            "marker": {
             "pattern": {
              "fillmode": "overlay",
              "size": 10,
              "solidity": 0.2
             }
            },
            "type": "histogram"
           }
          ],
          "histogram2d": [
           {
            "colorbar": {
             "outlinewidth": 0,
             "ticks": ""
            },
            "colorscale": [
             [
              0,
              "#0d0887"
             ],
             [
              0.1111111111111111,
              "#46039f"
             ],
             [
              0.2222222222222222,
              "#7201a8"
             ],
             [
              0.3333333333333333,
              "#9c179e"
             ],
             [
              0.4444444444444444,
              "#bd3786"
             ],
             [
              0.5555555555555556,
              "#d8576b"
             ],
             [
              0.6666666666666666,
              "#ed7953"
             ],
             [
              0.7777777777777778,
              "#fb9f3a"
             ],
             [
              0.8888888888888888,
              "#fdca26"
             ],
             [
              1,
              "#f0f921"
             ]
            ],
            "type": "histogram2d"
           }
          ],
          "histogram2dcontour": [
           {
            "colorbar": {
             "outlinewidth": 0,
             "ticks": ""
            },
            "colorscale": [
             [
              0,
              "#0d0887"
             ],
             [
              0.1111111111111111,
              "#46039f"
             ],
             [
              0.2222222222222222,
              "#7201a8"
             ],
             [
              0.3333333333333333,
              "#9c179e"
             ],
             [
              0.4444444444444444,
              "#bd3786"
             ],
             [
              0.5555555555555556,
              "#d8576b"
             ],
             [
              0.6666666666666666,
              "#ed7953"
             ],
             [
              0.7777777777777778,
              "#fb9f3a"
             ],
             [
              0.8888888888888888,
              "#fdca26"
             ],
             [
              1,
              "#f0f921"
             ]
            ],
            "type": "histogram2dcontour"
           }
          ],
          "mesh3d": [
           {
            "colorbar": {
             "outlinewidth": 0,
             "ticks": ""
            },
            "type": "mesh3d"
           }
          ],
          "parcoords": [
           {
            "line": {
             "colorbar": {
              "outlinewidth": 0,
              "ticks": ""
             }
            },
            "type": "parcoords"
           }
          ],
          "pie": [
           {
            "automargin": true,
            "type": "pie"
           }
          ],
          "scatter": [
           {
            "fillpattern": {
             "fillmode": "overlay",
             "size": 10,
             "solidity": 0.2
            },
            "type": "scatter"
           }
          ],
          "scatter3d": [
           {
            "line": {
             "colorbar": {
              "outlinewidth": 0,
              "ticks": ""
             }
            },
            "marker": {
             "colorbar": {
              "outlinewidth": 0,
              "ticks": ""
             }
            },
            "type": "scatter3d"
           }
          ],
          "scattercarpet": [
           {
            "marker": {
             "colorbar": {
              "outlinewidth": 0,
              "ticks": ""
             }
            },
            "type": "scattercarpet"
           }
          ],
          "scattergeo": [
           {
            "marker": {
             "colorbar": {
              "outlinewidth": 0,
              "ticks": ""
             }
            },
            "type": "scattergeo"
           }
          ],
          "scattergl": [
           {
            "marker": {
             "colorbar": {
              "outlinewidth": 0,
              "ticks": ""
             }
            },
            "type": "scattergl"
           }
          ],
          "scattermapbox": [
           {
            "marker": {
             "colorbar": {
              "outlinewidth": 0,
              "ticks": ""
             }
            },
            "type": "scattermapbox"
           }
          ],
          "scatterpolar": [
           {
            "marker": {
             "colorbar": {
              "outlinewidth": 0,
              "ticks": ""
             }
            },
            "type": "scatterpolar"
           }
          ],
          "scatterpolargl": [
           {
            "marker": {
             "colorbar": {
              "outlinewidth": 0,
              "ticks": ""
             }
            },
            "type": "scatterpolargl"
           }
          ],
          "scatterternary": [
           {
            "marker": {
             "colorbar": {
              "outlinewidth": 0,
              "ticks": ""
             }
            },
            "type": "scatterternary"
           }
          ],
          "surface": [
           {
            "colorbar": {
             "outlinewidth": 0,
             "ticks": ""
            },
            "colorscale": [
             [
              0,
              "#0d0887"
             ],
             [
              0.1111111111111111,
              "#46039f"
             ],
             [
              0.2222222222222222,
              "#7201a8"
             ],
             [
              0.3333333333333333,
              "#9c179e"
             ],
             [
              0.4444444444444444,
              "#bd3786"
             ],
             [
              0.5555555555555556,
              "#d8576b"
             ],
             [
              0.6666666666666666,
              "#ed7953"
             ],
             [
              0.7777777777777778,
              "#fb9f3a"
             ],
             [
              0.8888888888888888,
              "#fdca26"
             ],
             [
              1,
              "#f0f921"
             ]
            ],
            "type": "surface"
           }
          ],
          "table": [
           {
            "cells": {
             "fill": {
              "color": "#EBF0F8"
             },
             "line": {
              "color": "white"
             }
            },
            "header": {
             "fill": {
              "color": "#C8D4E3"
             },
             "line": {
              "color": "white"
             }
            },
            "type": "table"
           }
          ]
         },
         "layout": {
          "annotationdefaults": {
           "arrowcolor": "#2a3f5f",
           "arrowhead": 0,
           "arrowwidth": 1
          },
          "autotypenumbers": "strict",
          "coloraxis": {
           "colorbar": {
            "outlinewidth": 0,
            "ticks": ""
           }
          },
          "colorscale": {
           "diverging": [
            [
             0,
             "#8e0152"
            ],
            [
             0.1,
             "#c51b7d"
            ],
            [
             0.2,
             "#de77ae"
            ],
            [
             0.3,
             "#f1b6da"
            ],
            [
             0.4,
             "#fde0ef"
            ],
            [
             0.5,
             "#f7f7f7"
            ],
            [
             0.6,
             "#e6f5d0"
            ],
            [
             0.7,
             "#b8e186"
            ],
            [
             0.8,
             "#7fbc41"
            ],
            [
             0.9,
             "#4d9221"
            ],
            [
             1,
             "#276419"
            ]
           ],
           "sequential": [
            [
             0,
             "#0d0887"
            ],
            [
             0.1111111111111111,
             "#46039f"
            ],
            [
             0.2222222222222222,
             "#7201a8"
            ],
            [
             0.3333333333333333,
             "#9c179e"
            ],
            [
             0.4444444444444444,
             "#bd3786"
            ],
            [
             0.5555555555555556,
             "#d8576b"
            ],
            [
             0.6666666666666666,
             "#ed7953"
            ],
            [
             0.7777777777777778,
             "#fb9f3a"
            ],
            [
             0.8888888888888888,
             "#fdca26"
            ],
            [
             1,
             "#f0f921"
            ]
           ],
           "sequentialminus": [
            [
             0,
             "#0d0887"
            ],
            [
             0.1111111111111111,
             "#46039f"
            ],
            [
             0.2222222222222222,
             "#7201a8"
            ],
            [
             0.3333333333333333,
             "#9c179e"
            ],
            [
             0.4444444444444444,
             "#bd3786"
            ],
            [
             0.5555555555555556,
             "#d8576b"
            ],
            [
             0.6666666666666666,
             "#ed7953"
            ],
            [
             0.7777777777777778,
             "#fb9f3a"
            ],
            [
             0.8888888888888888,
             "#fdca26"
            ],
            [
             1,
             "#f0f921"
            ]
           ]
          },
          "colorway": [
           "#636efa",
           "#EF553B",
           "#00cc96",
           "#ab63fa",
           "#FFA15A",
           "#19d3f3",
           "#FF6692",
           "#B6E880",
           "#FF97FF",
           "#FECB52"
          ],
          "font": {
           "color": "#2a3f5f"
          },
          "geo": {
           "bgcolor": "white",
           "lakecolor": "white",
           "landcolor": "#E5ECF6",
           "showlakes": true,
           "showland": true,
           "subunitcolor": "white"
          },
          "hoverlabel": {
           "align": "left"
          },
          "hovermode": "closest",
          "mapbox": {
           "style": "light"
          },
          "paper_bgcolor": "white",
          "plot_bgcolor": "#E5ECF6",
          "polar": {
           "angularaxis": {
            "gridcolor": "white",
            "linecolor": "white",
            "ticks": ""
           },
           "bgcolor": "#E5ECF6",
           "radialaxis": {
            "gridcolor": "white",
            "linecolor": "white",
            "ticks": ""
           }
          },
          "scene": {
           "xaxis": {
            "backgroundcolor": "#E5ECF6",
            "gridcolor": "white",
            "gridwidth": 2,
            "linecolor": "white",
            "showbackground": true,
            "ticks": "",
            "zerolinecolor": "white"
           },
           "yaxis": {
            "backgroundcolor": "#E5ECF6",
            "gridcolor": "white",
            "gridwidth": 2,
            "linecolor": "white",
            "showbackground": true,
            "ticks": "",
            "zerolinecolor": "white"
           },
           "zaxis": {
            "backgroundcolor": "#E5ECF6",
            "gridcolor": "white",
            "gridwidth": 2,
            "linecolor": "white",
            "showbackground": true,
            "ticks": "",
            "zerolinecolor": "white"
           }
          },
          "shapedefaults": {
           "line": {
            "color": "#2a3f5f"
           }
          },
          "ternary": {
           "aaxis": {
            "gridcolor": "white",
            "linecolor": "white",
            "ticks": ""
           },
           "baxis": {
            "gridcolor": "white",
            "linecolor": "white",
            "ticks": ""
           },
           "bgcolor": "#E5ECF6",
           "caxis": {
            "gridcolor": "white",
            "linecolor": "white",
            "ticks": ""
           }
          },
          "title": {
           "x": 0.05
          },
          "xaxis": {
           "automargin": true,
           "gridcolor": "white",
           "linecolor": "white",
           "ticks": "",
           "title": {
            "standoff": 15
           },
           "zerolinecolor": "white",
           "zerolinewidth": 2
          },
          "yaxis": {
           "automargin": true,
           "gridcolor": "white",
           "linecolor": "white",
           "ticks": "",
           "title": {
            "standoff": 15
           },
           "zerolinecolor": "white",
           "zerolinewidth": 2
          }
         }
        },
        "title": {
         "text": "Deaths by Police per State"
        }
       }
      },
      "text/html": [
       "<div>                            <div id=\"11a3a79a-c1e0-46da-b092-006ce6d0f7fe\" class=\"plotly-graph-div\" style=\"height:525px; width:100%;\"></div>            <script type=\"text/javascript\">                require([\"plotly\"], function(Plotly) {                    window.PLOTLYENV=window.PLOTLYENV || {};                                    if (document.getElementById(\"11a3a79a-c1e0-46da-b092-006ce6d0f7fe\")) {                    Plotly.newPlot(                        \"11a3a79a-c1e0-46da-b092-006ce6d0f7fe\",                        [{\"coloraxis\":\"coloraxis\",\"geo\":\"geo\",\"hovertemplate\":\"<b>%{hovertext}</b><br><br>state=%{location}<br>count=%{z}<extra></extra>\",\"hovertext\":[\"AK\",\"AL\",\"AR\",\"AZ\",\"CA\",\"CO\",\"CT\",\"DC\",\"DE\",\"FL\",\"GA\",\"HI\",\"IA\",\"ID\",\"IL\",\"IN\",\"KS\",\"KY\",\"LA\",\"MA\",\"MD\",\"ME\",\"MI\",\"MN\",\"MO\",\"MS\",\"MT\",\"NC\",\"ND\",\"NE\",\"NH\",\"NJ\",\"NM\",\"NV\",\"NY\",\"OH\",\"OK\",\"OR\",\"PA\",\"RI\",\"SC\",\"SD\",\"TN\",\"TX\",\"UT\",\"VA\",\"VT\",\"WA\",\"WI\",\"WV\",\"WY\"],\"locationmode\":\"USA-states\",\"locations\":[\"AK\",\"AL\",\"AR\",\"AZ\",\"CA\",\"CO\",\"CT\",\"DC\",\"DE\",\"FL\",\"GA\",\"HI\",\"IA\",\"ID\",\"IL\",\"IN\",\"KS\",\"KY\",\"LA\",\"MA\",\"MD\",\"ME\",\"MI\",\"MN\",\"MO\",\"MS\",\"MT\",\"NC\",\"ND\",\"NE\",\"NH\",\"NJ\",\"NM\",\"NV\",\"NY\",\"OH\",\"OK\",\"OR\",\"PA\",\"RI\",\"SC\",\"SD\",\"TN\",\"TX\",\"UT\",\"VA\",\"VT\",\"WA\",\"WI\",\"WV\",\"WY\"],\"name\":\"\",\"z\":[14,45,20,105,366,63,7,11,8,136,61,11,12,14,56,40,24,40,47,22,36,10,36,31,58,22,11,66,4,14,7,30,41,34,43,70,65,32,45,2,41,9,56,200,22,43,3,51,42,21,7],\"type\":\"choropleth\"}],                        {\"template\":{\"data\":{\"histogram2dcontour\":[{\"type\":\"histogram2dcontour\",\"colorbar\":{\"outlinewidth\":0,\"ticks\":\"\"},\"colorscale\":[[0.0,\"#0d0887\"],[0.1111111111111111,\"#46039f\"],[0.2222222222222222,\"#7201a8\"],[0.3333333333333333,\"#9c179e\"],[0.4444444444444444,\"#bd3786\"],[0.5555555555555556,\"#d8576b\"],[0.6666666666666666,\"#ed7953\"],[0.7777777777777778,\"#fb9f3a\"],[0.8888888888888888,\"#fdca26\"],[1.0,\"#f0f921\"]]}],\"choropleth\":[{\"type\":\"choropleth\",\"colorbar\":{\"outlinewidth\":0,\"ticks\":\"\"}}],\"histogram2d\":[{\"type\":\"histogram2d\",\"colorbar\":{\"outlinewidth\":0,\"ticks\":\"\"},\"colorscale\":[[0.0,\"#0d0887\"],[0.1111111111111111,\"#46039f\"],[0.2222222222222222,\"#7201a8\"],[0.3333333333333333,\"#9c179e\"],[0.4444444444444444,\"#bd3786\"],[0.5555555555555556,\"#d8576b\"],[0.6666666666666666,\"#ed7953\"],[0.7777777777777778,\"#fb9f3a\"],[0.8888888888888888,\"#fdca26\"],[1.0,\"#f0f921\"]]}],\"heatmap\":[{\"type\":\"heatmap\",\"colorbar\":{\"outlinewidth\":0,\"ticks\":\"\"},\"colorscale\":[[0.0,\"#0d0887\"],[0.1111111111111111,\"#46039f\"],[0.2222222222222222,\"#7201a8\"],[0.3333333333333333,\"#9c179e\"],[0.4444444444444444,\"#bd3786\"],[0.5555555555555556,\"#d8576b\"],[0.6666666666666666,\"#ed7953\"],[0.7777777777777778,\"#fb9f3a\"],[0.8888888888888888,\"#fdca26\"],[1.0,\"#f0f921\"]]}],\"heatmapgl\":[{\"type\":\"heatmapgl\",\"colorbar\":{\"outlinewidth\":0,\"ticks\":\"\"},\"colorscale\":[[0.0,\"#0d0887\"],[0.1111111111111111,\"#46039f\"],[0.2222222222222222,\"#7201a8\"],[0.3333333333333333,\"#9c179e\"],[0.4444444444444444,\"#bd3786\"],[0.5555555555555556,\"#d8576b\"],[0.6666666666666666,\"#ed7953\"],[0.7777777777777778,\"#fb9f3a\"],[0.8888888888888888,\"#fdca26\"],[1.0,\"#f0f921\"]]}],\"contourcarpet\":[{\"type\":\"contourcarpet\",\"colorbar\":{\"outlinewidth\":0,\"ticks\":\"\"}}],\"contour\":[{\"type\":\"contour\",\"colorbar\":{\"outlinewidth\":0,\"ticks\":\"\"},\"colorscale\":[[0.0,\"#0d0887\"],[0.1111111111111111,\"#46039f\"],[0.2222222222222222,\"#7201a8\"],[0.3333333333333333,\"#9c179e\"],[0.4444444444444444,\"#bd3786\"],[0.5555555555555556,\"#d8576b\"],[0.6666666666666666,\"#ed7953\"],[0.7777777777777778,\"#fb9f3a\"],[0.8888888888888888,\"#fdca26\"],[1.0,\"#f0f921\"]]}],\"surface\":[{\"type\":\"surface\",\"colorbar\":{\"outlinewidth\":0,\"ticks\":\"\"},\"colorscale\":[[0.0,\"#0d0887\"],[0.1111111111111111,\"#46039f\"],[0.2222222222222222,\"#7201a8\"],[0.3333333333333333,\"#9c179e\"],[0.4444444444444444,\"#bd3786\"],[0.5555555555555556,\"#d8576b\"],[0.6666666666666666,\"#ed7953\"],[0.7777777777777778,\"#fb9f3a\"],[0.8888888888888888,\"#fdca26\"],[1.0,\"#f0f921\"]]}],\"mesh3d\":[{\"type\":\"mesh3d\",\"colorbar\":{\"outlinewidth\":0,\"ticks\":\"\"}}],\"scatter\":[{\"fillpattern\":{\"fillmode\":\"overlay\",\"size\":10,\"solidity\":0.2},\"type\":\"scatter\"}],\"parcoords\":[{\"type\":\"parcoords\",\"line\":{\"colorbar\":{\"outlinewidth\":0,\"ticks\":\"\"}}}],\"scatterpolargl\":[{\"type\":\"scatterpolargl\",\"marker\":{\"colorbar\":{\"outlinewidth\":0,\"ticks\":\"\"}}}],\"bar\":[{\"error_x\":{\"color\":\"#2a3f5f\"},\"error_y\":{\"color\":\"#2a3f5f\"},\"marker\":{\"line\":{\"color\":\"#E5ECF6\",\"width\":0.5},\"pattern\":{\"fillmode\":\"overlay\",\"size\":10,\"solidity\":0.2}},\"type\":\"bar\"}],\"scattergeo\":[{\"type\":\"scattergeo\",\"marker\":{\"colorbar\":{\"outlinewidth\":0,\"ticks\":\"\"}}}],\"scatterpolar\":[{\"type\":\"scatterpolar\",\"marker\":{\"colorbar\":{\"outlinewidth\":0,\"ticks\":\"\"}}}],\"histogram\":[{\"marker\":{\"pattern\":{\"fillmode\":\"overlay\",\"size\":10,\"solidity\":0.2}},\"type\":\"histogram\"}],\"scattergl\":[{\"type\":\"scattergl\",\"marker\":{\"colorbar\":{\"outlinewidth\":0,\"ticks\":\"\"}}}],\"scatter3d\":[{\"type\":\"scatter3d\",\"line\":{\"colorbar\":{\"outlinewidth\":0,\"ticks\":\"\"}},\"marker\":{\"colorbar\":{\"outlinewidth\":0,\"ticks\":\"\"}}}],\"scattermapbox\":[{\"type\":\"scattermapbox\",\"marker\":{\"colorbar\":{\"outlinewidth\":0,\"ticks\":\"\"}}}],\"scatterternary\":[{\"type\":\"scatterternary\",\"marker\":{\"colorbar\":{\"outlinewidth\":0,\"ticks\":\"\"}}}],\"scattercarpet\":[{\"type\":\"scattercarpet\",\"marker\":{\"colorbar\":{\"outlinewidth\":0,\"ticks\":\"\"}}}],\"carpet\":[{\"aaxis\":{\"endlinecolor\":\"#2a3f5f\",\"gridcolor\":\"white\",\"linecolor\":\"white\",\"minorgridcolor\":\"white\",\"startlinecolor\":\"#2a3f5f\"},\"baxis\":{\"endlinecolor\":\"#2a3f5f\",\"gridcolor\":\"white\",\"linecolor\":\"white\",\"minorgridcolor\":\"white\",\"startlinecolor\":\"#2a3f5f\"},\"type\":\"carpet\"}],\"table\":[{\"cells\":{\"fill\":{\"color\":\"#EBF0F8\"},\"line\":{\"color\":\"white\"}},\"header\":{\"fill\":{\"color\":\"#C8D4E3\"},\"line\":{\"color\":\"white\"}},\"type\":\"table\"}],\"barpolar\":[{\"marker\":{\"line\":{\"color\":\"#E5ECF6\",\"width\":0.5},\"pattern\":{\"fillmode\":\"overlay\",\"size\":10,\"solidity\":0.2}},\"type\":\"barpolar\"}],\"pie\":[{\"automargin\":true,\"type\":\"pie\"}]},\"layout\":{\"autotypenumbers\":\"strict\",\"colorway\":[\"#636efa\",\"#EF553B\",\"#00cc96\",\"#ab63fa\",\"#FFA15A\",\"#19d3f3\",\"#FF6692\",\"#B6E880\",\"#FF97FF\",\"#FECB52\"],\"font\":{\"color\":\"#2a3f5f\"},\"hovermode\":\"closest\",\"hoverlabel\":{\"align\":\"left\"},\"paper_bgcolor\":\"white\",\"plot_bgcolor\":\"#E5ECF6\",\"polar\":{\"bgcolor\":\"#E5ECF6\",\"angularaxis\":{\"gridcolor\":\"white\",\"linecolor\":\"white\",\"ticks\":\"\"},\"radialaxis\":{\"gridcolor\":\"white\",\"linecolor\":\"white\",\"ticks\":\"\"}},\"ternary\":{\"bgcolor\":\"#E5ECF6\",\"aaxis\":{\"gridcolor\":\"white\",\"linecolor\":\"white\",\"ticks\":\"\"},\"baxis\":{\"gridcolor\":\"white\",\"linecolor\":\"white\",\"ticks\":\"\"},\"caxis\":{\"gridcolor\":\"white\",\"linecolor\":\"white\",\"ticks\":\"\"}},\"coloraxis\":{\"colorbar\":{\"outlinewidth\":0,\"ticks\":\"\"}},\"colorscale\":{\"sequential\":[[0.0,\"#0d0887\"],[0.1111111111111111,\"#46039f\"],[0.2222222222222222,\"#7201a8\"],[0.3333333333333333,\"#9c179e\"],[0.4444444444444444,\"#bd3786\"],[0.5555555555555556,\"#d8576b\"],[0.6666666666666666,\"#ed7953\"],[0.7777777777777778,\"#fb9f3a\"],[0.8888888888888888,\"#fdca26\"],[1.0,\"#f0f921\"]],\"sequentialminus\":[[0.0,\"#0d0887\"],[0.1111111111111111,\"#46039f\"],[0.2222222222222222,\"#7201a8\"],[0.3333333333333333,\"#9c179e\"],[0.4444444444444444,\"#bd3786\"],[0.5555555555555556,\"#d8576b\"],[0.6666666666666666,\"#ed7953\"],[0.7777777777777778,\"#fb9f3a\"],[0.8888888888888888,\"#fdca26\"],[1.0,\"#f0f921\"]],\"diverging\":[[0,\"#8e0152\"],[0.1,\"#c51b7d\"],[0.2,\"#de77ae\"],[0.3,\"#f1b6da\"],[0.4,\"#fde0ef\"],[0.5,\"#f7f7f7\"],[0.6,\"#e6f5d0\"],[0.7,\"#b8e186\"],[0.8,\"#7fbc41\"],[0.9,\"#4d9221\"],[1,\"#276419\"]]},\"xaxis\":{\"gridcolor\":\"white\",\"linecolor\":\"white\",\"ticks\":\"\",\"title\":{\"standoff\":15},\"zerolinecolor\":\"white\",\"automargin\":true,\"zerolinewidth\":2},\"yaxis\":{\"gridcolor\":\"white\",\"linecolor\":\"white\",\"ticks\":\"\",\"title\":{\"standoff\":15},\"zerolinecolor\":\"white\",\"automargin\":true,\"zerolinewidth\":2},\"scene\":{\"xaxis\":{\"backgroundcolor\":\"#E5ECF6\",\"gridcolor\":\"white\",\"linecolor\":\"white\",\"showbackground\":true,\"ticks\":\"\",\"zerolinecolor\":\"white\",\"gridwidth\":2},\"yaxis\":{\"backgroundcolor\":\"#E5ECF6\",\"gridcolor\":\"white\",\"linecolor\":\"white\",\"showbackground\":true,\"ticks\":\"\",\"zerolinecolor\":\"white\",\"gridwidth\":2},\"zaxis\":{\"backgroundcolor\":\"#E5ECF6\",\"gridcolor\":\"white\",\"linecolor\":\"white\",\"showbackground\":true,\"ticks\":\"\",\"zerolinecolor\":\"white\",\"gridwidth\":2}},\"shapedefaults\":{\"line\":{\"color\":\"#2a3f5f\"}},\"annotationdefaults\":{\"arrowcolor\":\"#2a3f5f\",\"arrowhead\":0,\"arrowwidth\":1},\"geo\":{\"bgcolor\":\"white\",\"landcolor\":\"#E5ECF6\",\"subunitcolor\":\"white\",\"showland\":true,\"showlakes\":true,\"lakecolor\":\"white\"},\"title\":{\"x\":0.05},\"mapbox\":{\"style\":\"light\"}}},\"geo\":{\"domain\":{\"x\":[0.0,1.0],\"y\":[0.0,1.0]},\"center\":{},\"scope\":\"usa\"},\"coloraxis\":{\"colorbar\":{\"title\":{\"text\":\"count\"}},\"colorscale\":[[0.0,\"#440154\"],[0.1111111111111111,\"#482878\"],[0.2222222222222222,\"#3e4989\"],[0.3333333333333333,\"#31688e\"],[0.4444444444444444,\"#26828e\"],[0.5555555555555556,\"#1f9e89\"],[0.6666666666666666,\"#35b779\"],[0.7777777777777778,\"#6ece58\"],[0.8888888888888888,\"#b5de2b\"],[1.0,\"#fde725\"]]},\"legend\":{\"tracegroupgap\":0},\"title\":{\"text\":\"Deaths by Police per State\"}},                        {\"responsive\": true}                    ).then(function(){\n",
       "                            \n",
       "var gd = document.getElementById('11a3a79a-c1e0-46da-b092-006ce6d0f7fe');\n",
       "var x = new MutationObserver(function (mutations, observer) {{\n",
       "        var display = window.getComputedStyle(gd).display;\n",
       "        if (!display || display === 'none') {{\n",
       "            console.log([gd, 'removed!']);\n",
       "            Plotly.purge(gd);\n",
       "            observer.disconnect();\n",
       "        }}\n",
       "}});\n",
       "\n",
       "// Listen for the removal of the full notebook cells\n",
       "var notebookContainer = gd.closest('#notebook-container');\n",
       "if (notebookContainer) {{\n",
       "    x.observe(notebookContainer, {childList: true});\n",
       "}}\n",
       "\n",
       "// Listen for the clearing of the current output cell\n",
       "var outputEl = gd.closest('.output');\n",
       "if (outputEl) {{\n",
       "    x.observe(outputEl, {childList: true});\n",
       "}}\n",
       "\n",
       "                        })                };                });            </script>        </div>"
      ]
     },
     "metadata": {},
     "output_type": "display_data"
    }
   ],
   "source": [
    "import plotly.express as px\n",
    "\n",
    "# Assuming deaths_per_state DataFrame is already created and has 'state' and 'count' columns\n",
    "deaths_per_state = deaths_by_police.groupby(['state'], as_index=False)['name'].count()\n",
    "deaths_per_state.rename(columns={'name': 'count'}, inplace=True)\n",
    "\n",
    "# Choropleth map for deaths by police per state\n",
    "deaths_states = px.choropleth(deaths_per_state, \n",
    "                               title='Deaths by Police per State', \n",
    "                               locations='state', \n",
    "                               color='count', \n",
    "                               hover_name='state', \n",
    "                               locationmode=\"USA-states\", \n",
    "                               scope='usa', \n",
    "                               color_continuous_scale=\"Viridis\")\n",
    "\n",
    "# Display the map\n",
    "deaths_states.show()\n"
   ]
  },
  {
   "cell_type": "code",
   "execution_count": 89,
   "id": "25e4ea85",
   "metadata": {},
   "outputs": [
    {
     "name": "stdout",
     "output_type": "stream",
     "text": [
      "Top 10 Cities with the Most Incidents:\n",
      "Los Angeles     35\n",
      "Phoenix         28\n",
      "Houston         24\n",
      "Chicago         22\n",
      "Austin          18\n",
      "Las Vegas       17\n",
      "Columbus        16\n",
      "Miami           15\n",
      "San Antonio     15\n",
      "Indianapolis    14\n",
      "Name: city, dtype: int64\n"
     ]
    }
   ],
   "source": [
    "top_cities = deaths_by_police['city'].value_counts().head(10)\n",
    "print(\"Top 10 Cities with the Most Incidents:\")\n",
    "print(top_cities)"
   ]
  },
  {
   "cell_type": "code",
   "execution_count": 90,
   "id": "a832620e",
   "metadata": {},
   "outputs": [
    {
     "data": {
      "image/png": "[encoded data removed]",
      "text/plain": [
       "<Figure size 1200x600 with 1 Axes>"
      ]
     },
     "metadata": {},
     "output_type": "display_data"
    }
   ],
   "source": [
    "# Bar Plot for State-wise Incidents\n",
    "state_counts = deaths_by_police['state'].value_counts().reset_index()\n",
    "state_counts.columns = ['state', 'count']\n",
    "\n",
    "plt.figure(figsize=(12, 6))\n",
    "sns.barplot(data=state_counts, x='state', y='count', palette='viridis')\n",
    "plt.xticks(rotation=45)\n",
    "plt.title('Number of Incidents by State')\n",
    "plt.show()\n"
   ]
  },
  {
   "cell_type": "code",
   "execution_count": 91,
   "id": "be5ed3ba",
   "metadata": {},
   "outputs": [
    {
     "name": "stdout",
     "output_type": "stream",
     "text": [
      "Mean Age of Deaths: 36.254214729370005\n",
      "Mode Age of Deaths: 25.0\n",
      "Median Age of Deaths: 34.0\n",
      "Max Age of Deaths: 91.0\n",
      "Min Age of Deaths: 6.0\n",
      "Name of Person with Max Age of Death: Frank W. Wratny\n",
      "Name of Person with Min Age of Death: Jeremy Mardis\n",
      "Race of Person with Max Age of Death: W\n",
      "Race of Person with Min Age of Death: W\n"
     ]
    }
   ],
   "source": [
    "#Demographics \n",
    "#Univariate Analysis\n",
    "mean_age_of_deaths = deaths_by_police['age'].mean()\n",
    "mode_age_of_deaths = deaths_by_police['age'].mode()[0]\n",
    "median_age_of_deaths = deaths_by_police['age'].median()\n",
    "max_age_of_deaths = deaths_by_police['age'].max()\n",
    "min_age_of_deaths = deaths_by_police['age'].min()\n",
    "\n",
    "name_of_max = deaths_by_police[deaths_by_police['age'] == max_age_of_deaths]['name'].iloc[0]\n",
    "name_of_min = deaths_by_police[deaths_by_police['age'] == min_age_of_deaths]['name'].iloc[0]\n",
    "race_of_max = deaths_by_police[deaths_by_police['age'] == max_age_of_deaths]['race'].iloc[0]\n",
    "race_of_min = deaths_by_police[deaths_by_police['age'] == min_age_of_deaths]['race'].iloc[0]\n",
    "\n",
    "print(f\"Mean Age of Deaths: {mean_age_of_deaths}\")\n",
    "print(f\"Mode Age of Deaths: {mode_age_of_deaths}\")\n",
    "print(f\"Median Age of Deaths: {median_age_of_deaths}\")\n",
    "print(f\"Max Age of Deaths: {max_age_of_deaths}\")\n",
    "print(f\"Min Age of Deaths: {min_age_of_deaths}\")\n",
    "\n",
    "print(f\"Name of Person with Max Age of Death: {name_of_max}\")\n",
    "print(f\"Name of Person with Min Age of Death: {name_of_min}\")\n",
    "print(f\"Race of Person with Max Age of Death: {race_of_max}\")\n",
    "print(f\"Race of Person with Min Age of Death: {race_of_min}\")"
   ]
  },
  {
   "cell_type": "code",
   "execution_count": 92,
   "id": "c52a9f1b",
   "metadata": {},
   "outputs": [
    {
     "name": "stdout",
     "output_type": "stream",
     "text": [
      "Deaths by Race:\n",
      "  race  name\n",
      "0    A    36\n",
      "1    B   592\n",
      "2    H   401\n",
      "3    N    29\n",
      "4    O    28\n",
      "5    W  1168\n"
     ]
    }
   ],
   "source": [
    "#Race and deaths\n",
    "race_deaths = deaths_by_police.groupby('race')['name'].count().reset_index()\n",
    "print(\"Deaths by Race:\")\n",
    "print(race_deaths)"
   ]
  },
  {
   "cell_type": "code",
   "execution_count": 26,
   "id": "16657cd0",
   "metadata": {},
   "outputs": [
    {
     "name": "stdout",
     "output_type": "stream",
     "text": [
      "Gender Disparity of Deaths:\n",
      "  gender  name\n",
      "0      F    94\n",
      "1      M  2160\n",
      "\n",
      "Deaths Per Year by Gender:\n",
      "   year gender  name\n",
      "0  2015      F    40\n",
      "1  2015      M   907\n",
      "2  2016      F    38\n",
      "3  2016      M   835\n",
      "4  2017      F    16\n",
      "5  2017      M   418\n"
     ]
    }
   ],
   "source": [
    "#GENDER\n",
    "deaths_by_police['date'] = pd.to_datetime(deaths_by_police['date'], format='%d-%m-%Y')\n",
    "deaths_by_police['year'] = deaths_by_police['date'].dt.year\n",
    "gender_disparity_of_deaths = deaths_by_police.groupby('gender')['name'].count().reset_index()\n",
    "deaths_per_year = deaths_by_police.groupby(['year', 'gender'])['name'].count().reset_index()\n",
    "print(\"Gender Disparity of Deaths:\")\n",
    "print(gender_disparity_of_deaths)\n",
    "print(\"\\nDeaths Per Year by Gender:\")\n",
    "print(deaths_per_year)"
   ]
  },
  {
   "cell_type": "code",
   "execution_count": 27,
   "id": "d47ea646",
   "metadata": {},
   "outputs": [
    {
     "name": "stdout",
     "output_type": "stream",
     "text": [
      "Grouped by race and armed, count of deaths:\n",
      "    race            armed  id\n",
      "0      A              gun  11\n",
      "1      A    gun and knife   1\n",
      "2      A           hammer   1\n",
      "3      A  hatchet and gun   1\n",
      "4      A            knife  14\n",
      "..   ...              ...  ..\n",
      "121    W       toy weapon  63\n",
      "122    W          unarmed  65\n",
      "123    W     undetermined  35\n",
      "124    W   unknown weapon   8\n",
      "125    W          vehicle  77\n",
      "\n",
      "[126 rows x 3 columns]\n",
      "\n",
      "Pivoted table with 'race' as the index and 'armed' as columns:\n",
      "         id                                                            \\\n",
      "armed Taser air conditioner   ax baseball bat baseball bat and bottle   \n",
      "race                                                                    \n",
      "A       NaN             NaN  NaN          NaN                     NaN   \n",
      "B       2.0             NaN  1.0          2.0                     NaN   \n",
      "H       NaN             NaN  NaN          2.0                     NaN   \n",
      "N       NaN             NaN  NaN          NaN                     NaN   \n",
      "O       NaN             NaN  NaN          NaN                     NaN   \n",
      "W       4.0             1.0  7.0          3.0                     1.0   \n",
      "\n",
      "                                                                               \\\n",
      "armed baseball bat and fireplace poker baton bayonet bean-bag gun beer bottle   \n",
      "race                                                                            \n",
      "A                                  NaN   NaN     NaN          NaN         NaN   \n",
      "B                                  NaN   1.0     NaN          NaN         NaN   \n",
      "H                                  NaN   NaN     1.0          1.0         NaN   \n",
      "N                                  NaN   NaN     NaN          NaN         NaN   \n",
      "O                                  NaN   NaN     NaN          NaN         NaN   \n",
      "W                                  1.0   NaN     NaN          NaN         1.0   \n",
      "\n",
      "       ...                                                                    \\\n",
      "armed  ... shovel spear stapler straight edge razor sword toy weapon unarmed   \n",
      "race   ...                                                                     \n",
      "A      ...    NaN   NaN     NaN                 NaN   NaN        1.0     NaN   \n",
      "B      ...    NaN   NaN     NaN                 NaN   1.0       24.0    61.0   \n",
      "H      ...    1.0   1.0     1.0                 NaN   3.0       13.0    33.0   \n",
      "N      ...    NaN   NaN     NaN                 NaN   NaN        1.0     2.0   \n",
      "O      ...    NaN   NaN     NaN                 NaN   NaN        NaN     4.0   \n",
      "W      ...    1.0   NaN     NaN                 1.0   4.0       63.0    65.0   \n",
      "\n",
      "                                           \n",
      "armed undetermined unknown weapon vehicle  \n",
      "race                                       \n",
      "A              1.0            NaN     3.0  \n",
      "B             27.0            5.0    44.0  \n",
      "H             29.0            2.0    29.0  \n",
      "N              NaN            NaN     2.0  \n",
      "O              NaN            NaN     3.0  \n",
      "W             35.0            8.0    77.0  \n",
      "\n",
      "[6 rows x 67 columns]\n",
      "\n"
     ]
    }
   ],
   "source": [
    "# How can we analyze the count of deaths by police based on race and whether the individuals were armed?\n",
    "\n",
    "arm = deaths_by_police.groupby(['race', 'armed'], as_index=False)['id'].count()\n",
    "print(\"Grouped by race and armed, count of deaths:\")\n",
    "print(arm)\n",
    "print()\n",
    "\n",
    "armed = arm.pivot(index='race', columns='armed')\n",
    "print(\"Pivoted table with 'race' as the index and 'armed' as columns:\")\n",
    "print(armed)\n",
    "print()\n"
   ]
  },
  {
   "cell_type": "code",
   "execution_count": 28,
   "id": "579ecd4e",
   "metadata": {},
   "outputs": [
    {
     "name": "stdout",
     "output_type": "stream",
     "text": [
      "Fleeing status:\n",
      "Not fleeing    1528\n",
      "Car             360\n",
      "Foot            278\n",
      "Other            88\n",
      "Name: flee, dtype: int64\n",
      "Fleeing vs. Armed:\n",
      "flee   armed       \n",
      "Car    gun             177\n",
      "       vehicle         112\n",
      "       unarmed          28\n",
      "       undetermined     17\n",
      "       knife            10\n",
      "                      ... \n",
      "Other  knife             4\n",
      "       toy weapon        2\n",
      "       Taser             1\n",
      "       motorcycle        1\n",
      "       oar               1\n",
      "Name: armed, Length: 100, dtype: int64\n"
     ]
    }
   ],
   "source": [
    "# How can we analyze the fleeing status of individuals in deaths by police, and its correlation with whether they were armed?\n",
    "\n",
    "# FLEEING\n",
    "flee_counts = deaths_by_police['flee'].value_counts()\n",
    "print(\"Fleeing status:\")\n",
    "print(flee_counts)\n",
    "\n",
    "# FLEEING + ARMED\n",
    "flee_armed_correlation = deaths_by_police.groupby('flee')['armed'].value_counts()\n",
    "print(\"Fleeing vs. Armed:\")\n",
    "print(flee_armed_correlation)\n"
   ]
  },
  {
   "cell_type": "code",
   "execution_count": 29,
   "id": "f57dfd5c",
   "metadata": {},
   "outputs": [
    {
     "name": "stdout",
     "output_type": "stream",
     "text": [
      "Body camera usage:\n",
      "False    2002\n",
      "True      252\n",
      "Name: body_camera, dtype: int64\n",
      "Percentage of cases with body cameras:\n",
      "False    88.819876\n",
      "True     11.180124\n",
      "Name: body_camera, dtype: float64\n"
     ]
    }
   ],
   "source": [
    "# BODY CAMERA\n",
    "\"\"\"Body Camera refers to wearable cameras used by police officers to record their interactions with the public. These devices \n",
    "aim to provide transparency and accountability in law enforcement actions, especially in cases involving the use of force or \n",
    "fatalities.\"\"\"\n",
    "body_camera_counts = deaths_by_police['body_camera'].value_counts()\n",
    "print(\"Body camera usage:\")\n",
    "print(body_camera_counts)\n",
    "\n",
    "# PERCENTAGE\n",
    "body_camera_percentage = (body_camera_counts / len(deaths_by_police)) * 100\n",
    "print(\"Percentage of cases with body cameras:\")\n",
    "print(body_camera_percentage)"
   ]
  },
  {
   "cell_type": "code",
   "execution_count": 30,
   "id": "044eeaa3",
   "metadata": {},
   "outputs": [
    {
     "name": "stdout",
     "output_type": "stream",
     "text": [
      "Signs of mental illness:\n",
      "False    1681\n",
      "True      573\n",
      "Name: signs_of_mental_illness, dtype: int64\n",
      "Percentage of cases with mental illness:\n",
      "False    74.578527\n",
      "True     25.421473\n",
      "Name: signs_of_mental_illness, dtype: float64\n"
     ]
    }
   ],
   "source": [
    "# How can we analyze the presence of signs of mental illness in deaths by police and calculate its percentage?\n",
    "\n",
    "# MENTAL ILLNESS\n",
    "mental_illness_counts = deaths_by_police['signs_of_mental_illness'].value_counts()\n",
    "print(\"Signs of mental illness:\")\n",
    "print(mental_illness_counts)\n",
    "\n",
    "# PERCENTAGE\n",
    "mental_illness_percentage = mental_illness_counts / len(deaths_by_police) * 100\n",
    "print(\"Percentage of cases with mental illness:\")\n",
    "print(mental_illness_percentage)\n"
   ]
  },
  {
   "cell_type": "code",
   "execution_count": 31,
   "id": "29509b2b",
   "metadata": {},
   "outputs": [
    {
     "name": "stdout",
     "output_type": "stream",
     "text": [
      "Threat levels:\n",
      "attack          1462\n",
      "other            677\n",
      "undetermined     115\n",
      "Name: threat_level, dtype: int64\n"
     ]
    }
   ],
   "source": [
    "# How can we analyze the distribution of threat levels in deaths by police?\n",
    "\n",
    "# THREAT\n",
    "threat_level_counts = deaths_by_police['threat_level'].value_counts()\n",
    "print(\"Threat levels:\")\n",
    "print(threat_level_counts)\n"
   ]
  },
  {
   "cell_type": "code",
   "execution_count": 32,
   "id": "80f2a41f",
   "metadata": {},
   "outputs": [
    {
     "name": "stdout",
     "output_type": "stream",
     "text": [
      "Mental Illness vs. Threat Levels:\n",
      "threat_level             attack  other  undetermined\n",
      "signs_of_mental_illness                             \n",
      "False                      1113    464           104\n",
      "True                        349    213            11\n"
     ]
    }
   ],
   "source": [
    "# How can we analyze the relationship between signs of mental illness and threat levels in deaths by police?\n",
    "\n",
    "mental_illness_threat = pd.crosstab(deaths_by_police['signs_of_mental_illness'], deaths_by_police['threat_level'])\n",
    "print(\"Mental Illness vs. Threat Levels:\")\n",
    "print(mental_illness_threat)\n"
   ]
  },
  {
   "cell_type": "code",
   "execution_count": 33,
   "id": "ac618d09",
   "metadata": {},
   "outputs": [
    {
     "name": "stdout",
     "output_type": "stream",
     "text": [
      "Gender and Threat Level Correlation (Percentages):\n",
      "threat_level     attack      other  undetermined\n",
      "gender                                          \n",
      "F             58.510638  37.234043      4.255319\n",
      "M             65.138889  29.722222      5.138889\n"
     ]
    }
   ],
   "source": [
    "# How can we analyze the correlation between gender and threat level in deaths by police, expressed as percentages?\n",
    "\n",
    "# GENDER + THREAT LEVEL\n",
    "gender_threat = pd.crosstab(deaths_by_police['gender'], deaths_by_police['threat_level'], normalize='index') * 100\n",
    "print(\"Gender and Threat Level Correlation (Percentages):\")\n",
    "print(gender_threat)\n"
   ]
  },
  {
   "cell_type": "code",
   "execution_count": 34,
   "id": "a66e12ec",
   "metadata": {},
   "outputs": [
    {
     "name": "stdout",
     "output_type": "stream",
     "text": [
      "Fleeing Behavior vs. Mental Illness:\n",
      "signs_of_mental_illness  False  True \n",
      "flee                                 \n",
      "Car                        320     40\n",
      "Foot                       244     34\n",
      "Not fleeing               1036    492\n",
      "Other                       81      7\n"
     ]
    }
   ],
   "source": [
    "# How can we analyze the correlation between fleeing behavior and signs of mental illness in deaths by police?\n",
    "\n",
    "# Fleeing + Mental Illness\n",
    "fleeing_mental_illness = pd.crosstab(deaths_by_police['flee'], deaths_by_police['signs_of_mental_illness'])\n",
    "print(\"Fleeing Behavior vs. Mental Illness:\")\n",
    "print(fleeing_mental_illness)\n"
   ]
  },
  {
   "cell_type": "code",
   "execution_count": 35,
   "id": "cfd2847d",
   "metadata": {},
   "outputs": [
    {
     "name": "stdout",
     "output_type": "stream",
     "text": [
      "Percentage of Unarmed Victims by State:\n",
      "state\n",
      "VT    33.333333\n",
      "ND    25.000000\n",
      "IA    16.666667\n",
      "MN    16.129032\n",
      "NE    14.285714\n",
      "MD    13.888889\n",
      "MS    13.636364\n",
      "IN    12.500000\n",
      "KS    12.500000\n",
      "SD    11.111111\n",
      "MI    11.111111\n",
      "OK    10.769231\n",
      "OH    10.000000\n",
      "GA     9.836066\n",
      "FL     9.558824\n",
      "VA     9.302326\n",
      "NY     9.302326\n",
      "CA     9.289617\n",
      "DC     9.090909\n",
      "AZ     8.571429\n",
      "TX     7.500000\n",
      "PA     6.666667\n",
      "OR     6.250000\n",
      "WA     5.882353\n",
      "NV     5.882353\n",
      "IL     5.357143\n",
      "TN     5.357143\n",
      "MO     5.172414\n",
      "AR     5.000000\n",
      "SC     4.878049\n",
      "WI     4.761905\n",
      "AL     4.444444\n",
      "CO     3.174603\n",
      "NC     3.030303\n",
      "KY     2.500000\n",
      "NM     2.439024\n",
      "LA     2.127660\n",
      "Name: name, dtype: float64\n"
     ]
    }
   ],
   "source": [
    "# How can we analyze the percentage of unarmed victims by state in deaths by police?\n",
    "\n",
    "# STATE + UNARMED\n",
    "unarmed_by_state = deaths_by_police[deaths_by_police['armed'] == 'unarmed'].groupby('state')['name'].count()\n",
    "total_by_state = deaths_by_police.groupby('state')['name'].count()\n",
    "percentage_unarmed = (unarmed_by_state / total_by_state * 100).dropna().sort_values(ascending=False)\n",
    "print(\"Percentage of Unarmed Victims by State:\")\n",
    "print(percentage_unarmed)\n"
   ]
  },
  {
   "cell_type": "code",
   "execution_count": 36,
   "id": "bbd09a51",
   "metadata": {},
   "outputs": [
    {
     "name": "stdout",
     "output_type": "stream",
     "text": [
      "Race vs. Armed Status:\n",
      "armed  Taser  air conditioner  ax  baseball bat  baseball bat and bottle  \\\n",
      "race                                                                       \n",
      "A          0                0   0             0                        0   \n",
      "B          2                0   1             2                        0   \n",
      "H          0                0   0             2                        0   \n",
      "N          0                0   0             0                        0   \n",
      "O          0                0   0             0                        0   \n",
      "W          4                1   7             3                        1   \n",
      "\n",
      "armed  baseball bat and fireplace poker  baton  bayonet  bean-bag gun  \\\n",
      "race                                                                    \n",
      "A                                     0      0        0             0   \n",
      "B                                     0      1        0             0   \n",
      "H                                     0      0        1             1   \n",
      "N                                     0      0        0             0   \n",
      "O                                     0      0        0             0   \n",
      "W                                     1      0        0             0   \n",
      "\n",
      "armed  beer bottle  ...  shovel  spear  stapler  straight edge razor  sword  \\\n",
      "race                ...                                                       \n",
      "A                0  ...       0      0        0                    0      0   \n",
      "B                0  ...       0      0        0                    0      1   \n",
      "H                0  ...       1      1        1                    0      3   \n",
      "N                0  ...       0      0        0                    0      0   \n",
      "O                0  ...       0      0        0                    0      0   \n",
      "W                1  ...       1      0        0                    1      4   \n",
      "\n",
      "armed  toy weapon  unarmed  undetermined  unknown weapon  vehicle  \n",
      "race                                                               \n",
      "A               1        0             1               0        3  \n",
      "B              24       61            27               5       44  \n",
      "H              13       33            29               2       29  \n",
      "N               1        2             0               0        2  \n",
      "O               0        4             0               0        3  \n",
      "W              63       65            35               8       77  \n",
      "\n",
      "[6 rows x 67 columns]\n"
     ]
    }
   ],
   "source": [
    "# How can we analyze the relationship between race and whether individuals were armed in deaths by police?\n",
    "\n",
    "# Race and Armed\n",
    "race_armed = pd.crosstab(deaths_by_police['race'], deaths_by_police['armed'])\n",
    "print(\"Race vs. Armed Status:\")\n",
    "print(race_armed)\n"
   ]
  },
  {
   "cell_type": "code",
   "execution_count": 37,
   "id": "8219397a",
   "metadata": {},
   "outputs": [
    {
     "name": "stdout",
     "output_type": "stream",
     "text": [
      "Age Distribution by Armed Status:\n",
      "                         count       mean        std   min    25%   50%  \\\n",
      "armed                                                                     \n",
      "Taser                      6.0  42.000000  17.832555  20.0  33.00  37.0   \n",
      "air conditioner            1.0  41.000000        NaN  41.0  41.00  41.0   \n",
      "ax                         8.0  42.875000  15.878445  21.0  32.75  42.5   \n",
      "baseball bat               7.0  37.142857  16.486647  19.0  26.00  34.0   \n",
      "baseball bat and bottle    1.0  29.000000        NaN  29.0  29.00  29.0   \n",
      "...                        ...        ...        ...   ...    ...   ...   \n",
      "toy weapon               102.0  34.705882  12.765663  13.0  25.00  32.5   \n",
      "unarmed                  165.0  30.709091  10.615806   6.0  23.00  29.0   \n",
      "undetermined              92.0  33.434783  10.751237  16.0  24.75  32.0   \n",
      "unknown weapon            15.0  32.600000  13.383359  16.0  22.00  33.0   \n",
      "vehicle                  158.0  33.189873  10.515474  15.0  25.00  32.0   \n",
      "\n",
      "                           75%   max  \n",
      "armed                                 \n",
      "Taser                    52.25  69.0  \n",
      "air conditioner          41.00  41.0  \n",
      "ax                       57.00  62.0  \n",
      "baseball bat             44.50  66.0  \n",
      "baseball bat and bottle  29.00  29.0  \n",
      "...                        ...   ...  \n",
      "toy weapon               45.00  69.0  \n",
      "unarmed                  37.00  73.0  \n",
      "undetermined             41.00  59.0  \n",
      "unknown weapon           36.00  64.0  \n",
      "vehicle                  38.75  63.0  \n",
      "\n",
      "[67 rows x 8 columns]\n"
     ]
    }
   ],
   "source": [
    "# How can we analyze the age distribution based on armed status in deaths by police?\n",
    "\n",
    "# Age and Armed\n",
    "age_by_armed = deaths_by_police.groupby('armed')['age'].describe()\n",
    "print(\"Age Distribution by Armed Status:\")\n",
    "print(age_by_armed)\n"
   ]
  },
  {
   "cell_type": "code",
   "execution_count": 38,
   "id": "f162ebc8",
   "metadata": {},
   "outputs": [
    {
     "data": {
      "image/png": "[encoded data removed]",
      "text/plain": [
       "<Figure size 640x480 with 1 Axes>"
      ]
     },
     "metadata": {},
     "output_type": "display_data"
    }
   ],
   "source": [
    "# Boxplot for Age by Threat Level\n",
    "sns.boxplot(data=deaths_by_police, x='threat_level', y='age', palette='pastel')\n",
    "plt.title('Age Distribution by Threat Level')\n",
    "plt.show()"
   ]
  },
  {
   "cell_type": "code",
   "execution_count": 39,
   "id": "d21162d2",
   "metadata": {},
   "outputs": [
    {
     "name": "stdout",
     "output_type": "stream",
     "text": [
      "Weapon Type Distribution:\n",
      "gun            1247\n",
      "knife           324\n",
      "unarmed         165\n",
      "vehicle         158\n",
      "toy weapon      102\n",
      "               ... \n",
      "chain saw         1\n",
      "garden tool       1\n",
      "pole              1\n",
      "pick-axe          1\n",
      "pen               1\n",
      "Name: armed, Length: 67, dtype: int64\n"
     ]
    }
   ],
   "source": [
    "# How can we analyze the distribution of weapon types (armed status) in deaths by police?\n",
    "\n",
    "# Weapon Distribution\n",
    "weapon_distribution = deaths_by_police['armed'].value_counts()\n",
    "print(\"Weapon Type Distribution:\")\n",
    "print(weapon_distribution)\n"
   ]
  },
  {
   "cell_type": "code",
   "execution_count": null,
   "id": "6d9b54fe",
   "metadata": {},
   "outputs": [],
   "source": [
    "#Education and Deaths"
   ]
  },
  {
   "cell_type": "code",
   "execution_count": 96,
   "id": "bc22418e",
   "metadata": {},
   "outputs": [
    {
     "name": "stdout",
     "output_type": "stream",
     "text": [
      "Correlation between high school completion rates and deaths caused by police shootings: -0.4288394257884438\n"
     ]
    }
   ],
   "source": [
    "#State wise\n",
    "high_school_completion = over_25_high_school\n",
    "high_school_completion['percent_completed_hs'].replace('{x}', 0, inplace=True)\n",
    "high_school_completion['percent_completed_hs'].replace('-', 0, inplace=True)\n",
    "\n",
    "high_school_completion['percent_completed_hs'] = pd.to_numeric(high_school_completion['percent_completed_hs'])\n",
    "h_s = high_school_completion.groupby('Geographic Area', as_index=False)['percent_completed_hs'].mean()\n",
    "\n",
    "hs_vs_deaths = pd.merge(state_disparity, h_s.set_index('Geographic Area'), right_index=True, left_on='state')\n",
    "hs_vs_deaths['death_rate'] = (hs_vs_deaths['name'] / hs_vs_deaths['name'].sum()) * 100\n",
    "hs_vs_deaths['completion_rate'] = (hs_vs_deaths['percent_completed_hs'] / hs_vs_deaths['percent_completed_hs'].sum())\n",
    "hs_corr = hs_vs_deaths['completion_rate'].corr(hs_vs_deaths['death_rate'])\n",
    "\n",
    "print(f'Correlation between high school completion rates and deaths caused by police shootings: {hs_corr}')\n",
    "\n",
    "\n",
    "\"\"\"The negative correlation between high school completion rates and deaths caused by police shootings suggests that as \n",
    "high school completion rates increase, the death rates caused by police shootings tend to decrease, and vice versa.\"\"\""
   ]
  },
  {
   "cell_type": "code",
   "execution_count": 49,
   "id": "72c05755",
   "metadata": {},
   "outputs": [],
   "source": [
    "#Poverty and deaths by police correlation\n",
    "#The two dataframes are joined using geographical area as common column"
   ]
  },
  {
   "cell_type": "code",
   "execution_count": 56,
   "id": "e810f8d3",
   "metadata": {},
   "outputs": [
    {
     "name": "stdout",
     "output_type": "stream",
     "text": [
      "Correlation between deaths caused by police shootings and poverty levels per state: 0.2369670521198198\n"
     ]
    }
   ],
   "source": [
    "for x in pct_people_below_poverty_level.index:\n",
    "    if pct_people_below_poverty_level.loc[x, 'poverty_rate'] == '-':\n",
    "        pct_people_below_poverty_level.drop(x, inplace=True)\n",
    "\n",
    "pct_people_below_poverty_level['poverty_rate'] = pd.to_numeric(pct_people_below_poverty_level['poverty_rate'])\n",
    "\n",
    "poverty_rate_by_state = pct_people_below_poverty_level.groupby('Geographic Area')['poverty_rate'].mean().reset_index()\n",
    "\n",
    "\n",
    "deaths_per_state = deaths_by_police.groupby('state')['name'].count().reset_index()\n",
    "deaths_per_state.rename(columns={'name': 'death_count'}, inplace=True)\n",
    "\n",
    "deaths_per_state_poverty = pd.merge(deaths_per_state, poverty_rate_by_state.set_index('Geographic Area'), left_on='state', right_index=True)\n",
    "\n",
    "deaths_per_state_poverty['death_rate'] = (deaths_per_state_poverty['death_count'] / deaths_per_state_poverty['death_count'].sum()) * 100\n",
    "\n",
    "correlation_poverty_level = deaths_per_state_poverty['poverty_rate'].corr(deaths_per_state_poverty['death_rate'])\n",
    "\n",
    "print(f'Correlation between deaths caused by police shootings and poverty levels per state: {correlation_poverty_level}')\n"
   ]
  },
  {
   "cell_type": "code",
   "execution_count": 93,
   "id": "8c0c4ca9",
   "metadata": {},
   "outputs": [
    {
     "data": {
      "application/vnd.plotly.v1+json": {
       "config": {
        "plotlyServerURL": "https://plot.ly"
       },
       "data": [
        {
         "hovertemplate": "Poverty Rate (%)=%{x}<br>Death Rate (%)=%{y}<extra></extra>",
         "legendgroup": "",
         "marker": {
          "color": "blue",
          "line": {
           "color": "black",
           "width": 1
          },
          "opacity": 0.5,
          "size": 10,
          "symbol": "circle"
         },
         "mode": "markers",
         "name": "",
         "orientation": "v",
         "showlegend": false,
         "type": "scatter",
         "x": [
          19.852994011976048,
          20.64708904109589,
          22.963216266173752,
          25.666441441441442,
          17.12465023317788,
          13.36283185840708,
          9.1375,
          18,
          12.555844155844156,
          17.56601092896175,
          23.777403846153845,
          13.400662251655628,
          12.292522432701894,
          18.23688888888889,
          13.879780219780221,
          15.49985294117647,
          14.762985074626867,
          20.080000000000002,
          22.33890063424947,
          9.58530612244898,
          10.312209302325583,
          16.89384615384615,
          17.9007225433526,
          13.745736434108526,
          20.105859375,
          26.88425414364641,
          16.513774104683197,
          19.74728997289973,
          12.162249999999998,
          12.984575389948008,
          12.65979381443299,
          8.19097605893186,
          23.080787037037037,
          12.466153846153846,
          11.668231349538978,
          14.851112943116242,
          20.657104194857915,
          16.523466666666668,
          12.515585893060297,
          10.369444444444445,
          22.161518987341772,
          16.032291666666666,
          19.88720930232558,
          19.918070175438597,
          11.982704402515724,
          14.5858347386172,
          13.785950413223139,
          15.017609046849756,
          12.85868725868726,
          21.134405940594057,
          9.88770053475936
         ],
         "xaxis": "x",
         "y": [
          0.6211180124223602,
          1.9964507542147296,
          0.8873114463176575,
          4.658385093167702,
          16.237799467613133,
          2.7950310559006213,
          0.3105590062111801,
          0.4880212954747116,
          0.354924578527063,
          6.033717834960071,
          2.7062999112688555,
          0.4880212954747116,
          0.5323868677905945,
          0.6211180124223602,
          2.484472049689441,
          1.774622892635315,
          1.064773735581189,
          1.774622892635315,
          2.085181898846495,
          0.9760425909494232,
          1.5971606033717833,
          0.44365572315882873,
          1.5971606033717833,
          1.375332741792369,
          2.5732031943212066,
          0.9760425909494232,
          0.4880212954747116,
          2.9281277728482697,
          0.1774622892635315,
          0.6211180124223602,
          0.3105590062111801,
          1.3309671694764862,
          1.8189884649511978,
          1.5084294587400178,
          1.9077196095829636,
          3.1055900621118013,
          2.883762200532387,
          1.419698314108252,
          1.9964507542147296,
          0.08873114463176575,
          1.8189884649511978,
          0.39929015084294583,
          2.484472049689441,
          8.873114463176575,
          0.9760425909494232,
          1.9077196095829636,
          0.13309671694764863,
          2.2626441881100265,
          1.8633540372670807,
          0.9316770186335404,
          0.3105590062111801
         ],
         "yaxis": "y"
        }
       ],
       "layout": {
        "legend": {
         "tracegroupgap": 0
        },
        "showlegend": false,
        "template": {
         "data": {
          "bar": [
           {
            "error_x": {
             "color": "#2a3f5f"
            },
            "error_y": {
             "color": "#2a3f5f"
            },
            "marker": {
             "line": {
              "color": "#E5ECF6",
              "width": 0.5
             },
             "pattern": {
              "fillmode": "overlay",
              "size": 10,
              "solidity": 0.2
             }
            },
            "type": "bar"
           }
          ],
          "barpolar": [
           {
            "marker": {
             "line": {
              "color": "#E5ECF6",
              "width": 0.5
             },
             "pattern": {
              "fillmode": "overlay",
              "size": 10,
              "solidity": 0.2
             }
            },
            "type": "barpolar"
           }
          ],
          "carpet": [
           {
            "aaxis": {
             "endlinecolor": "#2a3f5f",
             "gridcolor": "white",
             "linecolor": "white",
             "minorgridcolor": "white",
             "startlinecolor": "#2a3f5f"
            },
            "baxis": {
             "endlinecolor": "#2a3f5f",
             "gridcolor": "white",
             "linecolor": "white",
             "minorgridcolor": "white",
             "startlinecolor": "#2a3f5f"
            },
            "type": "carpet"
           }
          ],
          "choropleth": [
           {
            "colorbar": {
             "outlinewidth": 0,
             "ticks": ""
            },
            "type": "choropleth"
           }
          ],
          "contour": [
           {
            "colorbar": {
             "outlinewidth": 0,
             "ticks": ""
            },
            "colorscale": [
             [
              0,
              "#0d0887"
             ],
             [
              0.1111111111111111,
              "#46039f"
             ],
             [
              0.2222222222222222,
              "#7201a8"
             ],
             [
              0.3333333333333333,
              "#9c179e"
             ],
             [
              0.4444444444444444,
              "#bd3786"
             ],
             [
              0.5555555555555556,
              "#d8576b"
             ],
             [
              0.6666666666666666,
              "#ed7953"
             ],
             [
              0.7777777777777778,
              "#fb9f3a"
             ],
             [
              0.8888888888888888,
              "#fdca26"
             ],
             [
              1,
              "#f0f921"
             ]
            ],
            "type": "contour"
           }
          ],
          "contourcarpet": [
           {
            "colorbar": {
             "outlinewidth": 0,
             "ticks": ""
            },
            "type": "contourcarpet"
           }
          ],
          "heatmap": [
           {
            "colorbar": {
             "outlinewidth": 0,
             "ticks": ""
            },
            "colorscale": [
             [
              0,
              "#0d0887"
             ],
             [
              0.1111111111111111,
              "#46039f"
             ],
             [
              0.2222222222222222,
              "#7201a8"
             ],
             [
              0.3333333333333333,
              "#9c179e"
             ],
             [
              0.4444444444444444,
              "#bd3786"
             ],
             [
              0.5555555555555556,
              "#d8576b"
             ],
             [
              0.6666666666666666,
              "#ed7953"
             ],
             [
              0.7777777777777778,
              "#fb9f3a"
             ],
             [
              0.8888888888888888,
              "#fdca26"
             ],
             [
              1,
              "#f0f921"
             ]
            ],
            "type": "heatmap"
           }
          ],
          "heatmapgl": [
           {
            "colorbar": {
             "outlinewidth": 0,
             "ticks": ""
            },
            "colorscale": [
             [
              0,
              "#0d0887"
             ],
             [
              0.1111111111111111,
              "#46039f"
             ],
             [
              0.2222222222222222,
              "#7201a8"
             ],
             [
              0.3333333333333333,
              "#9c179e"
             ],
             [
              0.4444444444444444,
              "#bd3786"
             ],
             [
              0.5555555555555556,
              "#d8576b"
             ],
             [
              0.6666666666666666,
              "#ed7953"
             ],
             [
              0.7777777777777778,
              "#fb9f3a"
             ],
             [
              0.8888888888888888,
              "#fdca26"
             ],
             [
              1,
              "#f0f921"
             ]
            ],
            "type": "heatmapgl"
           }
          ],
          "histogram": [
           {
            "marker": {
             "pattern": {
              "fillmode": "overlay",
              "size": 10,
              "solidity": 0.2
             }
            },
            "type": "histogram"
           }
          ],
          "histogram2d": [
           {
            "colorbar": {
             "outlinewidth": 0,
             "ticks": ""
            },
            "colorscale": [
             [
              0,
              "#0d0887"
             ],
             [
              0.1111111111111111,
              "#46039f"
             ],
             [
              0.2222222222222222,
              "#7201a8"
             ],
             [
              0.3333333333333333,
              "#9c179e"
             ],
             [
              0.4444444444444444,
              "#bd3786"
             ],
             [
              0.5555555555555556,
              "#d8576b"
             ],
             [
              0.6666666666666666,
              "#ed7953"
             ],
             [
              0.7777777777777778,
              "#fb9f3a"
             ],
             [
              0.8888888888888888,
              "#fdca26"
             ],
             [
              1,
              "#f0f921"
             ]
            ],
            "type": "histogram2d"
           }
          ],
          "histogram2dcontour": [
           {
            "colorbar": {
             "outlinewidth": 0,
             "ticks": ""
            },
            "colorscale": [
             [
              0,
              "#0d0887"
             ],
             [
              0.1111111111111111,
              "#46039f"
             ],
             [
              0.2222222222222222,
              "#7201a8"
             ],
             [
              0.3333333333333333,
              "#9c179e"
             ],
             [
              0.4444444444444444,
              "#bd3786"
             ],
             [
              0.5555555555555556,
              "#d8576b"
             ],
             [
              0.6666666666666666,
              "#ed7953"
             ],
             [
              0.7777777777777778,
              "#fb9f3a"
             ],
             [
              0.8888888888888888,
              "#fdca26"
             ],
             [
              1,
              "#f0f921"
             ]
            ],
            "type": "histogram2dcontour"
           }
          ],
          "mesh3d": [
           {
            "colorbar": {
             "outlinewidth": 0,
             "ticks": ""
            },
            "type": "mesh3d"
           }
          ],
          "parcoords": [
           {
            "line": {
             "colorbar": {
              "outlinewidth": 0,
              "ticks": ""
             }
            },
            "type": "parcoords"
           }
          ],
          "pie": [
           {
            "automargin": true,
            "type": "pie"
           }
          ],
          "scatter": [
           {
            "fillpattern": {
             "fillmode": "overlay",
             "size": 10,
             "solidity": 0.2
            },
            "type": "scatter"
           }
          ],
          "scatter3d": [
           {
            "line": {
             "colorbar": {
              "outlinewidth": 0,
              "ticks": ""
             }
            },
            "marker": {
             "colorbar": {
              "outlinewidth": 0,
              "ticks": ""
             }
            },
            "type": "scatter3d"
           }
          ],
          "scattercarpet": [
           {
            "marker": {
             "colorbar": {
              "outlinewidth": 0,
              "ticks": ""
             }
            },
            "type": "scattercarpet"
           }
          ],
          "scattergeo": [
           {
            "marker": {
             "colorbar": {
              "outlinewidth": 0,
              "ticks": ""
             }
            },
            "type": "scattergeo"
           }
          ],
          "scattergl": [
           {
            "marker": {
             "colorbar": {
              "outlinewidth": 0,
              "ticks": ""
             }
            },
            "type": "scattergl"
           }
          ],
          "scattermapbox": [
           {
            "marker": {
             "colorbar": {
              "outlinewidth": 0,
              "ticks": ""
             }
            },
            "type": "scattermapbox"
           }
          ],
          "scatterpolar": [
           {
            "marker": {
             "colorbar": {
              "outlinewidth": 0,
              "ticks": ""
             }
            },
            "type": "scatterpolar"
           }
          ],
          "scatterpolargl": [
           {
            "marker": {
             "colorbar": {
              "outlinewidth": 0,
              "ticks": ""
             }
            },
            "type": "scatterpolargl"
           }
          ],
          "scatterternary": [
           {
            "marker": {
             "colorbar": {
              "outlinewidth": 0,
              "ticks": ""
             }
            },
            "type": "scatterternary"
           }
          ],
          "surface": [
           {
            "colorbar": {
             "outlinewidth": 0,
             "ticks": ""
            },
            "colorscale": [
             [
              0,
              "#0d0887"
             ],
             [
              0.1111111111111111,
              "#46039f"
             ],
             [
              0.2222222222222222,
              "#7201a8"
             ],
             [
              0.3333333333333333,
              "#9c179e"
             ],
             [
              0.4444444444444444,
              "#bd3786"
             ],
             [
              0.5555555555555556,
              "#d8576b"
             ],
             [
              0.6666666666666666,
              "#ed7953"
             ],
             [
              0.7777777777777778,
              "#fb9f3a"
             ],
             [
              0.8888888888888888,
              "#fdca26"
             ],
             [
              1,
              "#f0f921"
             ]
            ],
            "type": "surface"
           }
          ],
          "table": [
           {
            "cells": {
             "fill": {
              "color": "#EBF0F8"
             },
             "line": {
              "color": "white"
             }
            },
            "header": {
             "fill": {
              "color": "#C8D4E3"
             },
             "line": {
              "color": "white"
             }
            },
            "type": "table"
           }
          ]
         },
         "layout": {
          "annotationdefaults": {
           "arrowcolor": "#2a3f5f",
           "arrowhead": 0,
           "arrowwidth": 1
          },
          "autotypenumbers": "strict",
          "coloraxis": {
           "colorbar": {
            "outlinewidth": 0,
            "ticks": ""
           }
          },
          "colorscale": {
           "diverging": [
            [
             0,
             "#8e0152"
            ],
            [
             0.1,
             "#c51b7d"
            ],
            [
             0.2,
             "#de77ae"
            ],
            [
             0.3,
             "#f1b6da"
            ],
            [
             0.4,
             "#fde0ef"
            ],
            [
             0.5,
             "#f7f7f7"
            ],
            [
             0.6,
             "#e6f5d0"
            ],
            [
             0.7,
             "#b8e186"
            ],
            [
             0.8,
             "#7fbc41"
            ],
            [
             0.9,
             "#4d9221"
            ],
            [
             1,
             "#276419"
            ]
           ],
           "sequential": [
            [
             0,
             "#0d0887"
            ],
            [
             0.1111111111111111,
             "#46039f"
            ],
            [
             0.2222222222222222,
             "#7201a8"
            ],
            [
             0.3333333333333333,
             "#9c179e"
            ],
            [
             0.4444444444444444,
             "#bd3786"
            ],
            [
             0.5555555555555556,
             "#d8576b"
            ],
            [
             0.6666666666666666,
             "#ed7953"
            ],
            [
             0.7777777777777778,
             "#fb9f3a"
            ],
            [
             0.8888888888888888,
             "#fdca26"
            ],
            [
             1,
             "#f0f921"
            ]
           ],
           "sequentialminus": [
            [
             0,
             "#0d0887"
            ],
            [
             0.1111111111111111,
             "#46039f"
            ],
            [
             0.2222222222222222,
             "#7201a8"
            ],
            [
             0.3333333333333333,
             "#9c179e"
            ],
            [
             0.4444444444444444,
             "#bd3786"
            ],
            [
             0.5555555555555556,
             "#d8576b"
            ],
            [
             0.6666666666666666,
             "#ed7953"
            ],
            [
             0.7777777777777778,
             "#fb9f3a"
            ],
            [
             0.8888888888888888,
             "#fdca26"
            ],
            [
             1,
             "#f0f921"
            ]
           ]
          },
          "colorway": [
           "#636efa",
           "#EF553B",
           "#00cc96",
           "#ab63fa",
           "#FFA15A",
           "#19d3f3",
           "#FF6692",
           "#B6E880",
           "#FF97FF",
           "#FECB52"
          ],
          "font": {
           "color": "#2a3f5f"
          },
          "geo": {
           "bgcolor": "white",
           "lakecolor": "white",
           "landcolor": "#E5ECF6",
           "showlakes": true,
           "showland": true,
           "subunitcolor": "white"
          },
          "hoverlabel": {
           "align": "left"
          },
          "hovermode": "closest",
          "mapbox": {
           "style": "light"
          },
          "paper_bgcolor": "white",
          "plot_bgcolor": "#E5ECF6",
          "polar": {
           "angularaxis": {
            "gridcolor": "white",
            "linecolor": "white",
            "ticks": ""
           },
           "bgcolor": "#E5ECF6",
           "radialaxis": {
            "gridcolor": "white",
            "linecolor": "white",
            "ticks": ""
           }
          },
          "scene": {
           "xaxis": {
            "backgroundcolor": "#E5ECF6",
            "gridcolor": "white",
            "gridwidth": 2,
            "linecolor": "white",
            "showbackground": true,
            "ticks": "",
            "zerolinecolor": "white"
           },
           "yaxis": {
            "backgroundcolor": "#E5ECF6",
            "gridcolor": "white",
            "gridwidth": 2,
            "linecolor": "white",
            "showbackground": true,
            "ticks": "",
            "zerolinecolor": "white"
           },
           "zaxis": {
            "backgroundcolor": "#E5ECF6",
            "gridcolor": "white",
            "gridwidth": 2,
            "linecolor": "white",
            "showbackground": true,
            "ticks": "",
            "zerolinecolor": "white"
           }
          },
          "shapedefaults": {
           "line": {
            "color": "#2a3f5f"
           }
          },
          "ternary": {
           "aaxis": {
            "gridcolor": "white",
            "linecolor": "white",
            "ticks": ""
           },
           "baxis": {
            "gridcolor": "white",
            "linecolor": "white",
            "ticks": ""
           },
           "bgcolor": "#E5ECF6",
           "caxis": {
            "gridcolor": "white",
            "linecolor": "white",
            "ticks": ""
           }
          },
          "title": {
           "x": 0.05
          },
          "xaxis": {
           "automargin": true,
           "gridcolor": "white",
           "linecolor": "white",
           "ticks": "",
           "title": {
            "standoff": 15
           },
           "zerolinecolor": "white",
           "zerolinewidth": 2
          },
          "yaxis": {
           "automargin": true,
           "gridcolor": "white",
           "linecolor": "white",
           "ticks": "",
           "title": {
            "standoff": 15
           },
           "zerolinecolor": "white",
           "zerolinewidth": 2
          }
         }
        },
        "title": {
         "text": "Correlation between Poverty Rate and Death Rate by State"
        },
        "xaxis": {
         "anchor": "y",
         "domain": [
          0,
          1
         ],
         "title": {
          "text": "Poverty Rate (%)"
         }
        },
        "yaxis": {
         "anchor": "x",
         "domain": [
          0,
          1
         ],
         "title": {
          "text": "Death Rate (%)"
         }
        }
       }
      },
      "text/html": [
       "<div>                            <div id=\"ee60b217-7180-4b59-8154-921a6e6c4d68\" class=\"plotly-graph-div\" style=\"height:525px; width:100%;\"></div>            <script type=\"text/javascript\">                require([\"plotly\"], function(Plotly) {                    window.PLOTLYENV=window.PLOTLYENV || {};                                    if (document.getElementById(\"ee60b217-7180-4b59-8154-921a6e6c4d68\")) {                    Plotly.newPlot(                        \"ee60b217-7180-4b59-8154-921a6e6c4d68\",                        [{\"hovertemplate\":\"Poverty Rate (%)=%{x}<br>Death Rate (%)=%{y}<extra></extra>\",\"legendgroup\":\"\",\"marker\":{\"color\":\"blue\",\"symbol\":\"circle\",\"line\":{\"color\":\"black\",\"width\":1},\"opacity\":0.5,\"size\":10},\"mode\":\"markers\",\"name\":\"\",\"orientation\":\"v\",\"showlegend\":false,\"x\":[19.852994011976048,20.64708904109589,22.963216266173752,25.666441441441442,17.12465023317788,13.36283185840708,9.1375,18.0,12.555844155844156,17.56601092896175,23.777403846153845,13.400662251655628,12.292522432701894,18.23688888888889,13.879780219780221,15.49985294117647,14.762985074626867,20.080000000000002,22.33890063424947,9.58530612244898,10.312209302325583,16.89384615384615,17.9007225433526,13.745736434108526,20.105859375,26.88425414364641,16.513774104683197,19.74728997289973,12.162249999999998,12.984575389948008,12.65979381443299,8.19097605893186,23.080787037037037,12.466153846153846,11.668231349538978,14.851112943116242,20.657104194857915,16.523466666666668,12.515585893060297,10.369444444444445,22.161518987341772,16.032291666666666,19.88720930232558,19.918070175438597,11.982704402515724,14.5858347386172,13.785950413223139,15.017609046849756,12.85868725868726,21.134405940594057,9.88770053475936],\"xaxis\":\"x\",\"y\":[0.6211180124223602,1.9964507542147296,0.8873114463176575,4.658385093167702,16.237799467613133,2.7950310559006213,0.3105590062111801,0.4880212954747116,0.354924578527063,6.033717834960071,2.7062999112688555,0.4880212954747116,0.5323868677905945,0.6211180124223602,2.484472049689441,1.774622892635315,1.064773735581189,1.774622892635315,2.085181898846495,0.9760425909494232,1.5971606033717833,0.44365572315882873,1.5971606033717833,1.375332741792369,2.5732031943212066,0.9760425909494232,0.4880212954747116,2.9281277728482697,0.1774622892635315,0.6211180124223602,0.3105590062111801,1.3309671694764862,1.8189884649511978,1.5084294587400178,1.9077196095829636,3.1055900621118013,2.883762200532387,1.419698314108252,1.9964507542147296,0.08873114463176575,1.8189884649511978,0.39929015084294583,2.484472049689441,8.873114463176575,0.9760425909494232,1.9077196095829636,0.13309671694764863,2.2626441881100265,1.8633540372670807,0.9316770186335404,0.3105590062111801],\"yaxis\":\"y\",\"type\":\"scatter\"}],                        {\"template\":{\"data\":{\"histogram2dcontour\":[{\"type\":\"histogram2dcontour\",\"colorbar\":{\"outlinewidth\":0,\"ticks\":\"\"},\"colorscale\":[[0.0,\"#0d0887\"],[0.1111111111111111,\"#46039f\"],[0.2222222222222222,\"#7201a8\"],[0.3333333333333333,\"#9c179e\"],[0.4444444444444444,\"#bd3786\"],[0.5555555555555556,\"#d8576b\"],[0.6666666666666666,\"#ed7953\"],[0.7777777777777778,\"#fb9f3a\"],[0.8888888888888888,\"#fdca26\"],[1.0,\"#f0f921\"]]}],\"choropleth\":[{\"type\":\"choropleth\",\"colorbar\":{\"outlinewidth\":0,\"ticks\":\"\"}}],\"histogram2d\":[{\"type\":\"histogram2d\",\"colorbar\":{\"outlinewidth\":0,\"ticks\":\"\"},\"colorscale\":[[0.0,\"#0d0887\"],[0.1111111111111111,\"#46039f\"],[0.2222222222222222,\"#7201a8\"],[0.3333333333333333,\"#9c179e\"],[0.4444444444444444,\"#bd3786\"],[0.5555555555555556,\"#d8576b\"],[0.6666666666666666,\"#ed7953\"],[0.7777777777777778,\"#fb9f3a\"],[0.8888888888888888,\"#fdca26\"],[1.0,\"#f0f921\"]]}],\"heatmap\":[{\"type\":\"heatmap\",\"colorbar\":{\"outlinewidth\":0,\"ticks\":\"\"},\"colorscale\":[[0.0,\"#0d0887\"],[0.1111111111111111,\"#46039f\"],[0.2222222222222222,\"#7201a8\"],[0.3333333333333333,\"#9c179e\"],[0.4444444444444444,\"#bd3786\"],[0.5555555555555556,\"#d8576b\"],[0.6666666666666666,\"#ed7953\"],[0.7777777777777778,\"#fb9f3a\"],[0.8888888888888888,\"#fdca26\"],[1.0,\"#f0f921\"]]}],\"heatmapgl\":[{\"type\":\"heatmapgl\",\"colorbar\":{\"outlinewidth\":0,\"ticks\":\"\"},\"colorscale\":[[0.0,\"#0d0887\"],[0.1111111111111111,\"#46039f\"],[0.2222222222222222,\"#7201a8\"],[0.3333333333333333,\"#9c179e\"],[0.4444444444444444,\"#bd3786\"],[0.5555555555555556,\"#d8576b\"],[0.6666666666666666,\"#ed7953\"],[0.7777777777777778,\"#fb9f3a\"],[0.8888888888888888,\"#fdca26\"],[1.0,\"#f0f921\"]]}],\"contourcarpet\":[{\"type\":\"contourcarpet\",\"colorbar\":{\"outlinewidth\":0,\"ticks\":\"\"}}],\"contour\":[{\"type\":\"contour\",\"colorbar\":{\"outlinewidth\":0,\"ticks\":\"\"},\"colorscale\":[[0.0,\"#0d0887\"],[0.1111111111111111,\"#46039f\"],[0.2222222222222222,\"#7201a8\"],[0.3333333333333333,\"#9c179e\"],[0.4444444444444444,\"#bd3786\"],[0.5555555555555556,\"#d8576b\"],[0.6666666666666666,\"#ed7953\"],[0.7777777777777778,\"#fb9f3a\"],[0.8888888888888888,\"#fdca26\"],[1.0,\"#f0f921\"]]}],\"surface\":[{\"type\":\"surface\",\"colorbar\":{\"outlinewidth\":0,\"ticks\":\"\"},\"colorscale\":[[0.0,\"#0d0887\"],[0.1111111111111111,\"#46039f\"],[0.2222222222222222,\"#7201a8\"],[0.3333333333333333,\"#9c179e\"],[0.4444444444444444,\"#bd3786\"],[0.5555555555555556,\"#d8576b\"],[0.6666666666666666,\"#ed7953\"],[0.7777777777777778,\"#fb9f3a\"],[0.8888888888888888,\"#fdca26\"],[1.0,\"#f0f921\"]]}],\"mesh3d\":[{\"type\":\"mesh3d\",\"colorbar\":{\"outlinewidth\":0,\"ticks\":\"\"}}],\"scatter\":[{\"fillpattern\":{\"fillmode\":\"overlay\",\"size\":10,\"solidity\":0.2},\"type\":\"scatter\"}],\"parcoords\":[{\"type\":\"parcoords\",\"line\":{\"colorbar\":{\"outlinewidth\":0,\"ticks\":\"\"}}}],\"scatterpolargl\":[{\"type\":\"scatterpolargl\",\"marker\":{\"colorbar\":{\"outlinewidth\":0,\"ticks\":\"\"}}}],\"bar\":[{\"error_x\":{\"color\":\"#2a3f5f\"},\"error_y\":{\"color\":\"#2a3f5f\"},\"marker\":{\"line\":{\"color\":\"#E5ECF6\",\"width\":0.5},\"pattern\":{\"fillmode\":\"overlay\",\"size\":10,\"solidity\":0.2}},\"type\":\"bar\"}],\"scattergeo\":[{\"type\":\"scattergeo\",\"marker\":{\"colorbar\":{\"outlinewidth\":0,\"ticks\":\"\"}}}],\"scatterpolar\":[{\"type\":\"scatterpolar\",\"marker\":{\"colorbar\":{\"outlinewidth\":0,\"ticks\":\"\"}}}],\"histogram\":[{\"marker\":{\"pattern\":{\"fillmode\":\"overlay\",\"size\":10,\"solidity\":0.2}},\"type\":\"histogram\"}],\"scattergl\":[{\"type\":\"scattergl\",\"marker\":{\"colorbar\":{\"outlinewidth\":0,\"ticks\":\"\"}}}],\"scatter3d\":[{\"type\":\"scatter3d\",\"line\":{\"colorbar\":{\"outlinewidth\":0,\"ticks\":\"\"}},\"marker\":{\"colorbar\":{\"outlinewidth\":0,\"ticks\":\"\"}}}],\"scattermapbox\":[{\"type\":\"scattermapbox\",\"marker\":{\"colorbar\":{\"outlinewidth\":0,\"ticks\":\"\"}}}],\"scatterternary\":[{\"type\":\"scatterternary\",\"marker\":{\"colorbar\":{\"outlinewidth\":0,\"ticks\":\"\"}}}],\"scattercarpet\":[{\"type\":\"scattercarpet\",\"marker\":{\"colorbar\":{\"outlinewidth\":0,\"ticks\":\"\"}}}],\"carpet\":[{\"aaxis\":{\"endlinecolor\":\"#2a3f5f\",\"gridcolor\":\"white\",\"linecolor\":\"white\",\"minorgridcolor\":\"white\",\"startlinecolor\":\"#2a3f5f\"},\"baxis\":{\"endlinecolor\":\"#2a3f5f\",\"gridcolor\":\"white\",\"linecolor\":\"white\",\"minorgridcolor\":\"white\",\"startlinecolor\":\"#2a3f5f\"},\"type\":\"carpet\"}],\"table\":[{\"cells\":{\"fill\":{\"color\":\"#EBF0F8\"},\"line\":{\"color\":\"white\"}},\"header\":{\"fill\":{\"color\":\"#C8D4E3\"},\"line\":{\"color\":\"white\"}},\"type\":\"table\"}],\"barpolar\":[{\"marker\":{\"line\":{\"color\":\"#E5ECF6\",\"width\":0.5},\"pattern\":{\"fillmode\":\"overlay\",\"size\":10,\"solidity\":0.2}},\"type\":\"barpolar\"}],\"pie\":[{\"automargin\":true,\"type\":\"pie\"}]},\"layout\":{\"autotypenumbers\":\"strict\",\"colorway\":[\"#636efa\",\"#EF553B\",\"#00cc96\",\"#ab63fa\",\"#FFA15A\",\"#19d3f3\",\"#FF6692\",\"#B6E880\",\"#FF97FF\",\"#FECB52\"],\"font\":{\"color\":\"#2a3f5f\"},\"hovermode\":\"closest\",\"hoverlabel\":{\"align\":\"left\"},\"paper_bgcolor\":\"white\",\"plot_bgcolor\":\"#E5ECF6\",\"polar\":{\"bgcolor\":\"#E5ECF6\",\"angularaxis\":{\"gridcolor\":\"white\",\"linecolor\":\"white\",\"ticks\":\"\"},\"radialaxis\":{\"gridcolor\":\"white\",\"linecolor\":\"white\",\"ticks\":\"\"}},\"ternary\":{\"bgcolor\":\"#E5ECF6\",\"aaxis\":{\"gridcolor\":\"white\",\"linecolor\":\"white\",\"ticks\":\"\"},\"baxis\":{\"gridcolor\":\"white\",\"linecolor\":\"white\",\"ticks\":\"\"},\"caxis\":{\"gridcolor\":\"white\",\"linecolor\":\"white\",\"ticks\":\"\"}},\"coloraxis\":{\"colorbar\":{\"outlinewidth\":0,\"ticks\":\"\"}},\"colorscale\":{\"sequential\":[[0.0,\"#0d0887\"],[0.1111111111111111,\"#46039f\"],[0.2222222222222222,\"#7201a8\"],[0.3333333333333333,\"#9c179e\"],[0.4444444444444444,\"#bd3786\"],[0.5555555555555556,\"#d8576b\"],[0.6666666666666666,\"#ed7953\"],[0.7777777777777778,\"#fb9f3a\"],[0.8888888888888888,\"#fdca26\"],[1.0,\"#f0f921\"]],\"sequentialminus\":[[0.0,\"#0d0887\"],[0.1111111111111111,\"#46039f\"],[0.2222222222222222,\"#7201a8\"],[0.3333333333333333,\"#9c179e\"],[0.4444444444444444,\"#bd3786\"],[0.5555555555555556,\"#d8576b\"],[0.6666666666666666,\"#ed7953\"],[0.7777777777777778,\"#fb9f3a\"],[0.8888888888888888,\"#fdca26\"],[1.0,\"#f0f921\"]],\"diverging\":[[0,\"#8e0152\"],[0.1,\"#c51b7d\"],[0.2,\"#de77ae\"],[0.3,\"#f1b6da\"],[0.4,\"#fde0ef\"],[0.5,\"#f7f7f7\"],[0.6,\"#e6f5d0\"],[0.7,\"#b8e186\"],[0.8,\"#7fbc41\"],[0.9,\"#4d9221\"],[1,\"#276419\"]]},\"xaxis\":{\"gridcolor\":\"white\",\"linecolor\":\"white\",\"ticks\":\"\",\"title\":{\"standoff\":15},\"zerolinecolor\":\"white\",\"automargin\":true,\"zerolinewidth\":2},\"yaxis\":{\"gridcolor\":\"white\",\"linecolor\":\"white\",\"ticks\":\"\",\"title\":{\"standoff\":15},\"zerolinecolor\":\"white\",\"automargin\":true,\"zerolinewidth\":2},\"scene\":{\"xaxis\":{\"backgroundcolor\":\"#E5ECF6\",\"gridcolor\":\"white\",\"linecolor\":\"white\",\"showbackground\":true,\"ticks\":\"\",\"zerolinecolor\":\"white\",\"gridwidth\":2},\"yaxis\":{\"backgroundcolor\":\"#E5ECF6\",\"gridcolor\":\"white\",\"linecolor\":\"white\",\"showbackground\":true,\"ticks\":\"\",\"zerolinecolor\":\"white\",\"gridwidth\":2},\"zaxis\":{\"backgroundcolor\":\"#E5ECF6\",\"gridcolor\":\"white\",\"linecolor\":\"white\",\"showbackground\":true,\"ticks\":\"\",\"zerolinecolor\":\"white\",\"gridwidth\":2}},\"shapedefaults\":{\"line\":{\"color\":\"#2a3f5f\"}},\"annotationdefaults\":{\"arrowcolor\":\"#2a3f5f\",\"arrowhead\":0,\"arrowwidth\":1},\"geo\":{\"bgcolor\":\"white\",\"landcolor\":\"#E5ECF6\",\"subunitcolor\":\"white\",\"showland\":true,\"showlakes\":true,\"lakecolor\":\"white\"},\"title\":{\"x\":0.05},\"mapbox\":{\"style\":\"light\"}}},\"xaxis\":{\"anchor\":\"y\",\"domain\":[0.0,1.0],\"title\":{\"text\":\"Poverty Rate (%)\"}},\"yaxis\":{\"anchor\":\"x\",\"domain\":[0.0,1.0],\"title\":{\"text\":\"Death Rate (%)\"}},\"legend\":{\"tracegroupgap\":0},\"title\":{\"text\":\"Correlation between Poverty Rate and Death Rate by State\"},\"showlegend\":false},                        {\"responsive\": true}                    ).then(function(){\n",
       "                            \n",
       "var gd = document.getElementById('ee60b217-7180-4b59-8154-921a6e6c4d68');\n",
       "var x = new MutationObserver(function (mutations, observer) {{\n",
       "        var display = window.getComputedStyle(gd).display;\n",
       "        if (!display || display === 'none') {{\n",
       "            console.log([gd, 'removed!']);\n",
       "            Plotly.purge(gd);\n",
       "            observer.disconnect();\n",
       "        }}\n",
       "}});\n",
       "\n",
       "// Listen for the removal of the full notebook cells\n",
       "var notebookContainer = gd.closest('#notebook-container');\n",
       "if (notebookContainer) {{\n",
       "    x.observe(notebookContainer, {childList: true});\n",
       "}}\n",
       "\n",
       "// Listen for the clearing of the current output cell\n",
       "var outputEl = gd.closest('.output');\n",
       "if (outputEl) {{\n",
       "    x.observe(outputEl, {childList: true});\n",
       "}}\n",
       "\n",
       "                        })                };                });            </script>        </div>"
      ]
     },
     "metadata": {},
     "output_type": "display_data"
    }
   ],
   "source": [
    "import plotly.express as px\n",
    "\n",
    "fig = px.scatter(deaths_per_state_poverty, x='poverty_rate', y='death_rate', \n",
    "                 title='Correlation between Poverty Rate and Death Rate by State',\n",
    "                 labels={'poverty_rate': 'Poverty Rate (%)', 'death_rate': 'Death Rate (%)'})\n",
    "\n",
    "fig.update_traces(marker=dict(color='blue', size=10, opacity=0.5, line=dict(width=1, color='black')),\n",
    "                  selector=dict(mode='markers'))\n",
    "fig.update_layout(showlegend=False)\n",
    "\n",
    "fig.show()\n"
   ]
  },
  {
   "cell_type": "code",
   "execution_count": 58,
   "id": "87d338e1",
   "metadata": {},
   "outputs": [
    {
     "name": "stdout",
     "output_type": "stream",
     "text": [
      "Correlation between deaths caused by police shootings and median household income: 0.20779731765706147\n"
     ]
    }
   ],
   "source": [
    "#MEDIAN INCOME AND DEATHS\n",
    "median_income = median_household_income\n",
    "\n",
    "median_income.replace('(X)', np.nan, inplace=True)\n",
    "median_income.replace('-', np.nan, inplace=True)\n",
    "\n",
    "median_income.drop(index=1347, inplace=True)\n",
    "median_income.dropna(inplace=True)\n",
    "median_income.drop_duplicates(inplace=True)\n",
    "\n",
    "median_income_cleaned = median_income[median_income['Median Income'].astype('str').str.isnumeric()].copy()\n",
    "\n",
    "median_income_cleaned['Median Income'] = pd.to_numeric(median_income_cleaned['Median Income'])\n",
    "median_income_cleaned.drop(median_income_cleaned[median_income_cleaned['Median Income'] < 44787].index, inplace=True)\n",
    "\n",
    "state_disparity = deaths_by_police.groupby(['state'], as_index=False)['name'].count()\n",
    "mean_median_income = median_income_cleaned.groupby(['Geographic Area'], as_index=False)['Median Income'].mean()\n",
    "\n",
    "combined_median_income = pd.merge(state_disparity, mean_median_income.set_index('Geographic Area'), right_index=True, left_on='state')\n",
    "combined_median_income['rate_of_median_income'] = (combined_median_income['Median Income'] /  combined_median_income['Median Income'].sum()) * 100\n",
    "combined_median_income['rate_of_deaths'] = (combined_median_income['name'] /  combined_median_income['name'].sum()) * 100\n",
    "\n",
    "correlation = combined_median_income['rate_of_median_income'].corr(combined_median_income['rate_of_deaths'])\n",
    "\n",
    "print(f'Correlation between deaths caused by police shootings and median household income: {correlation}')\n"
   ]
  },
  {
   "cell_type": "code",
   "execution_count": 98,
   "id": "4580233f",
   "metadata": {},
   "outputs": [
    {
     "data": {
      "application/vnd.plotly.v1+json": {
       "config": {
        "plotlyServerURL": "https://plot.ly"
       },
       "data": [
        {
         "hovertemplate": "Median Income ($)=%{x}<br>Rate of Deaths (%)=%{y}<extra></extra>",
         "legendgroup": "",
         "marker": {
          "color": "red",
          "line": {
           "color": "black",
           "width": 1
          },
          "opacity": 0.5,
          "size": 10,
          "symbol": "circle"
         },
         "mode": "markers",
         "name": "",
         "orientation": "v",
         "showlegend": false,
         "type": "scatter",
         "x": [
          67391.9493670886,
          59531.72289156626,
          54710.393939393936,
          62675.75968992248,
          76414.57126948774,
          73356.59683794467,
          79463.26190476191,
          70848,
          68256.7627118644,
          65301.640091116176,
          61264.726744186046,
          70635.832,
          57122.186274509804,
          54617.48809523809,
          66049.93434343435,
          60869.903448275865,
          56856.25362318841,
          71023.07486631015,
          59368.6686746988,
          76328.86320754717,
          84416.71,
          61271.5,
          60271.221804511275,
          63423.69739478958,
          64940.11029411765,
          56668.257575757576,
          60345.05970149254,
          62503.85658914729,
          61783.78899082569,
          56987.78544061303,
          61468.444444444445,
          85531.58541666667,
          60447.64220183486,
          69094.56060606061,
          80893.40961098399,
          63358.92718446602,
          57836.73821989529,
          61035.87425149701,
          61732.820792079205,
          70324.10344827586,
          61892.08653846154,
          57311.15094339623,
          65155.44094488189,
          69834.75202156334,
          65617.5081967213,
          83202.19873817035,
          58477.77777777778,
          70616.18766066838,
          60684.20823798627,
          56309.47474747475,
          68956
         ],
         "xaxis": "x",
         "y": [
          0.6211180124223602,
          1.9964507542147296,
          0.8873114463176575,
          4.658385093167702,
          16.237799467613133,
          2.7950310559006213,
          0.3105590062111801,
          0.4880212954747116,
          0.354924578527063,
          6.033717834960071,
          2.7062999112688555,
          0.4880212954747116,
          0.5323868677905945,
          0.6211180124223602,
          2.484472049689441,
          1.774622892635315,
          1.064773735581189,
          1.774622892635315,
          2.085181898846495,
          0.9760425909494232,
          1.5971606033717833,
          0.44365572315882873,
          1.5971606033717833,
          1.375332741792369,
          2.5732031943212066,
          0.9760425909494232,
          0.4880212954747116,
          2.9281277728482697,
          0.1774622892635315,
          0.6211180124223602,
          0.3105590062111801,
          1.3309671694764862,
          1.8189884649511978,
          1.5084294587400178,
          1.9077196095829636,
          3.1055900621118013,
          2.883762200532387,
          1.419698314108252,
          1.9964507542147296,
          0.08873114463176575,
          1.8189884649511978,
          0.39929015084294583,
          2.484472049689441,
          8.873114463176575,
          0.9760425909494232,
          1.9077196095829636,
          0.13309671694764863,
          2.2626441881100265,
          1.8633540372670807,
          0.9316770186335404,
          0.3105590062111801
         ],
         "yaxis": "y"
        }
       ],
       "layout": {
        "legend": {
         "tracegroupgap": 0
        },
        "showlegend": false,
        "template": {
         "data": {
          "bar": [
           {
            "error_x": {
             "color": "#2a3f5f"
            },
            "error_y": {
             "color": "#2a3f5f"
            },
            "marker": {
             "line": {
              "color": "#E5ECF6",
              "width": 0.5
             },
             "pattern": {
              "fillmode": "overlay",
              "size": 10,
              "solidity": 0.2
             }
            },
            "type": "bar"
           }
          ],
          "barpolar": [
           {
            "marker": {
             "line": {
              "color": "#E5ECF6",
              "width": 0.5
             },
             "pattern": {
              "fillmode": "overlay",
              "size": 10,
              "solidity": 0.2
             }
            },
            "type": "barpolar"
           }
          ],
          "carpet": [
           {
            "aaxis": {
             "endlinecolor": "#2a3f5f",
             "gridcolor": "white",
             "linecolor": "white",
             "minorgridcolor": "white",
             "startlinecolor": "#2a3f5f"
            },
            "baxis": {
             "endlinecolor": "#2a3f5f",
             "gridcolor": "white",
             "linecolor": "white",
             "minorgridcolor": "white",
             "startlinecolor": "#2a3f5f"
            },
            "type": "carpet"
           }
          ],
          "choropleth": [
           {
            "colorbar": {
             "outlinewidth": 0,
             "ticks": ""
            },
            "type": "choropleth"
           }
          ],
          "contour": [
           {
            "colorbar": {
             "outlinewidth": 0,
             "ticks": ""
            },
            "colorscale": [
             [
              0,
              "#0d0887"
             ],
             [
              0.1111111111111111,
              "#46039f"
             ],
             [
              0.2222222222222222,
              "#7201a8"
             ],
             [
              0.3333333333333333,
              "#9c179e"
             ],
             [
              0.4444444444444444,
              "#bd3786"
             ],
             [
              0.5555555555555556,
              "#d8576b"
             ],
             [
              0.6666666666666666,
              "#ed7953"
             ],
             [
              0.7777777777777778,
              "#fb9f3a"
             ],
             [
              0.8888888888888888,
              "#fdca26"
             ],
             [
              1,
              "#f0f921"
             ]
            ],
            "type": "contour"
           }
          ],
          "contourcarpet": [
           {
            "colorbar": {
             "outlinewidth": 0,
             "ticks": ""
            },
            "type": "contourcarpet"
           }
          ],
          "heatmap": [
           {
            "colorbar": {
             "outlinewidth": 0,
             "ticks": ""
            },
            "colorscale": [
             [
              0,
              "#0d0887"
             ],
             [
              0.1111111111111111,
              "#46039f"
             ],
             [
              0.2222222222222222,
              "#7201a8"
             ],
             [
              0.3333333333333333,
              "#9c179e"
             ],
             [
              0.4444444444444444,
              "#bd3786"
             ],
             [
              0.5555555555555556,
              "#d8576b"
             ],
             [
              0.6666666666666666,
              "#ed7953"
             ],
             [
              0.7777777777777778,
              "#fb9f3a"
             ],
             [
              0.8888888888888888,
              "#fdca26"
             ],
             [
              1,
              "#f0f921"
             ]
            ],
            "type": "heatmap"
           }
          ],
          "heatmapgl": [
           {
            "colorbar": {
             "outlinewidth": 0,
             "ticks": ""
            },
            "colorscale": [
             [
              0,
              "#0d0887"
             ],
             [
              0.1111111111111111,
              "#46039f"
             ],
             [
              0.2222222222222222,
              "#7201a8"
             ],
             [
              0.3333333333333333,
              "#9c179e"
             ],
             [
              0.4444444444444444,
              "#bd3786"
             ],
             [
              0.5555555555555556,
              "#d8576b"
             ],
             [
              0.6666666666666666,
              "#ed7953"
             ],
             [
              0.7777777777777778,
              "#fb9f3a"
             ],
             [
              0.8888888888888888,
              "#fdca26"
             ],
             [
              1,
              "#f0f921"
             ]
            ],
            "type": "heatmapgl"
           }
          ],
          "histogram": [
           {
            "marker": {
             "pattern": {
              "fillmode": "overlay",
              "size": 10,
              "solidity": 0.2
             }
            },
            "type": "histogram"
           }
          ],
          "histogram2d": [
           {
            "colorbar": {
             "outlinewidth": 0,
             "ticks": ""
            },
            "colorscale": [
             [
              0,
              "#0d0887"
             ],
             [
              0.1111111111111111,
              "#46039f"
             ],
             [
              0.2222222222222222,
              "#7201a8"
             ],
             [
              0.3333333333333333,
              "#9c179e"
             ],
             [
              0.4444444444444444,
              "#bd3786"
             ],
             [
              0.5555555555555556,
              "#d8576b"
             ],
             [
              0.6666666666666666,
              "#ed7953"
             ],
             [
              0.7777777777777778,
              "#fb9f3a"
             ],
             [
              0.8888888888888888,
              "#fdca26"
             ],
             [
              1,
              "#f0f921"
             ]
            ],
            "type": "histogram2d"
           }
          ],
          "histogram2dcontour": [
           {
            "colorbar": {
             "outlinewidth": 0,
             "ticks": ""
            },
            "colorscale": [
             [
              0,
              "#0d0887"
             ],
             [
              0.1111111111111111,
              "#46039f"
             ],
             [
              0.2222222222222222,
              "#7201a8"
             ],
             [
              0.3333333333333333,
              "#9c179e"
             ],
             [
              0.4444444444444444,
              "#bd3786"
             ],
             [
              0.5555555555555556,
              "#d8576b"
             ],
             [
              0.6666666666666666,
              "#ed7953"
             ],
             [
              0.7777777777777778,
              "#fb9f3a"
             ],
             [
              0.8888888888888888,
              "#fdca26"
             ],
             [
              1,
              "#f0f921"
             ]
            ],
            "type": "histogram2dcontour"
           }
          ],
          "mesh3d": [
           {
            "colorbar": {
             "outlinewidth": 0,
             "ticks": ""
            },
            "type": "mesh3d"
           }
          ],
          "parcoords": [
           {
            "line": {
             "colorbar": {
              "outlinewidth": 0,
              "ticks": ""
             }
            },
            "type": "parcoords"
           }
          ],
          "pie": [
           {
            "automargin": true,
            "type": "pie"
           }
          ],
          "scatter": [
           {
            "fillpattern": {
             "fillmode": "overlay",
             "size": 10,
             "solidity": 0.2
            },
            "type": "scatter"
           }
          ],
          "scatter3d": [
           {
            "line": {
             "colorbar": {
              "outlinewidth": 0,
              "ticks": ""
             }
            },
            "marker": {
             "colorbar": {
              "outlinewidth": 0,
              "ticks": ""
             }
            },
            "type": "scatter3d"
           }
          ],
          "scattercarpet": [
           {
            "marker": {
             "colorbar": {
              "outlinewidth": 0,
              "ticks": ""
             }
            },
            "type": "scattercarpet"
           }
          ],
          "scattergeo": [
           {
            "marker": {
             "colorbar": {
              "outlinewidth": 0,
              "ticks": ""
             }
            },
            "type": "scattergeo"
           }
          ],
          "scattergl": [
           {
            "marker": {
             "colorbar": {
              "outlinewidth": 0,
              "ticks": ""
             }
            },
            "type": "scattergl"
           }
          ],
          "scattermapbox": [
           {
            "marker": {
             "colorbar": {
              "outlinewidth": 0,
              "ticks": ""
             }
            },
            "type": "scattermapbox"
           }
          ],
          "scatterpolar": [
           {
            "marker": {
             "colorbar": {
              "outlinewidth": 0,
              "ticks": ""
             }
            },
            "type": "scatterpolar"
           }
          ],
          "scatterpolargl": [
           {
            "marker": {
             "colorbar": {
              "outlinewidth": 0,
              "ticks": ""
             }
            },
            "type": "scatterpolargl"
           }
          ],
          "scatterternary": [
           {
            "marker": {
             "colorbar": {
              "outlinewidth": 0,
              "ticks": ""
             }
            },
            "type": "scatterternary"
           }
          ],
          "surface": [
           {
            "colorbar": {
             "outlinewidth": 0,
             "ticks": ""
            },
            "colorscale": [
             [
              0,
              "#0d0887"
             ],
             [
              0.1111111111111111,
              "#46039f"
             ],
             [
              0.2222222222222222,
              "#7201a8"
             ],
             [
              0.3333333333333333,
              "#9c179e"
             ],
             [
              0.4444444444444444,
              "#bd3786"
             ],
             [
              0.5555555555555556,
              "#d8576b"
             ],
             [
              0.6666666666666666,
              "#ed7953"
             ],
             [
              0.7777777777777778,
              "#fb9f3a"
             ],
             [
              0.8888888888888888,
              "#fdca26"
             ],
             [
              1,
              "#f0f921"
             ]
            ],
            "type": "surface"
           }
          ],
          "table": [
           {
            "cells": {
             "fill": {
              "color": "#EBF0F8"
             },
             "line": {
              "color": "white"
             }
            },
            "header": {
             "fill": {
              "color": "#C8D4E3"
             },
             "line": {
              "color": "white"
             }
            },
            "type": "table"
           }
          ]
         },
         "layout": {
          "annotationdefaults": {
           "arrowcolor": "#2a3f5f",
           "arrowhead": 0,
           "arrowwidth": 1
          },
          "autotypenumbers": "strict",
          "coloraxis": {
           "colorbar": {
            "outlinewidth": 0,
            "ticks": ""
           }
          },
          "colorscale": {
           "diverging": [
            [
             0,
             "#8e0152"
            ],
            [
             0.1,
             "#c51b7d"
            ],
            [
             0.2,
             "#de77ae"
            ],
            [
             0.3,
             "#f1b6da"
            ],
            [
             0.4,
             "#fde0ef"
            ],
            [
             0.5,
             "#f7f7f7"
            ],
            [
             0.6,
             "#e6f5d0"
            ],
            [
             0.7,
             "#b8e186"
            ],
            [
             0.8,
             "#7fbc41"
            ],
            [
             0.9,
             "#4d9221"
            ],
            [
             1,
             "#276419"
            ]
           ],
           "sequential": [
            [
             0,
             "#0d0887"
            ],
            [
             0.1111111111111111,
             "#46039f"
            ],
            [
             0.2222222222222222,
             "#7201a8"
            ],
            [
             0.3333333333333333,
             "#9c179e"
            ],
            [
             0.4444444444444444,
             "#bd3786"
            ],
            [
             0.5555555555555556,
             "#d8576b"
            ],
            [
             0.6666666666666666,
             "#ed7953"
            ],
            [
             0.7777777777777778,
             "#fb9f3a"
            ],
            [
             0.8888888888888888,
             "#fdca26"
            ],
            [
             1,
             "#f0f921"
            ]
           ],
           "sequentialminus": [
            [
             0,
             "#0d0887"
            ],
            [
             0.1111111111111111,
             "#46039f"
            ],
            [
             0.2222222222222222,
             "#7201a8"
            ],
            [
             0.3333333333333333,
             "#9c179e"
            ],
            [
             0.4444444444444444,
             "#bd3786"
            ],
            [
             0.5555555555555556,
             "#d8576b"
            ],
            [
             0.6666666666666666,
             "#ed7953"
            ],
            [
             0.7777777777777778,
             "#fb9f3a"
            ],
            [
             0.8888888888888888,
             "#fdca26"
            ],
            [
             1,
             "#f0f921"
            ]
           ]
          },
          "colorway": [
           "#636efa",
           "#EF553B",
           "#00cc96",
           "#ab63fa",
           "#FFA15A",
           "#19d3f3",
           "#FF6692",
           "#B6E880",
           "#FF97FF",
           "#FECB52"
          ],
          "font": {
           "color": "#2a3f5f"
          },
          "geo": {
           "bgcolor": "white",
           "lakecolor": "white",
           "landcolor": "#E5ECF6",
           "showlakes": true,
           "showland": true,
           "subunitcolor": "white"
          },
          "hoverlabel": {
           "align": "left"
          },
          "hovermode": "closest",
          "mapbox": {
           "style": "light"
          },
          "paper_bgcolor": "white",
          "plot_bgcolor": "#E5ECF6",
          "polar": {
           "angularaxis": {
            "gridcolor": "white",
            "linecolor": "white",
            "ticks": ""
           },
           "bgcolor": "#E5ECF6",
           "radialaxis": {
            "gridcolor": "white",
            "linecolor": "white",
            "ticks": ""
           }
          },
          "scene": {
           "xaxis": {
            "backgroundcolor": "#E5ECF6",
            "gridcolor": "white",
            "gridwidth": 2,
            "linecolor": "white",
            "showbackground": true,
            "ticks": "",
            "zerolinecolor": "white"
           },
           "yaxis": {
            "backgroundcolor": "#E5ECF6",
            "gridcolor": "white",
            "gridwidth": 2,
            "linecolor": "white",
            "showbackground": true,
            "ticks": "",
            "zerolinecolor": "white"
           },
           "zaxis": {
            "backgroundcolor": "#E5ECF6",
            "gridcolor": "white",
            "gridwidth": 2,
            "linecolor": "white",
            "showbackground": true,
            "ticks": "",
            "zerolinecolor": "white"
           }
          },
          "shapedefaults": {
           "line": {
            "color": "#2a3f5f"
           }
          },
          "ternary": {
           "aaxis": {
            "gridcolor": "white",
            "linecolor": "white",
            "ticks": ""
           },
           "baxis": {
            "gridcolor": "white",
            "linecolor": "white",
            "ticks": ""
           },
           "bgcolor": "#E5ECF6",
           "caxis": {
            "gridcolor": "white",
            "linecolor": "white",
            "ticks": ""
           }
          },
          "title": {
           "x": 0.05
          },
          "xaxis": {
           "automargin": true,
           "gridcolor": "white",
           "linecolor": "white",
           "ticks": "",
           "title": {
            "standoff": 15
           },
           "zerolinecolor": "white",
           "zerolinewidth": 2
          },
          "yaxis": {
           "automargin": true,
           "gridcolor": "white",
           "linecolor": "white",
           "ticks": "",
           "title": {
            "standoff": 15
           },
           "zerolinecolor": "white",
           "zerolinewidth": 2
          }
         }
        },
        "title": {
         "text": "Correlation between Median Household Income and Death Rate by State"
        },
        "xaxis": {
         "anchor": "y",
         "domain": [
          0,
          1
         ],
         "title": {
          "text": "Median Income ($)"
         }
        },
        "yaxis": {
         "anchor": "x",
         "domain": [
          0,
          1
         ],
         "title": {
          "text": "Rate of Deaths (%)"
         }
        }
       }
      },
      "text/html": [
       "<div>                            <div id=\"08348d9e-f82a-4ab9-b2dc-c5a036590569\" class=\"plotly-graph-div\" style=\"height:525px; width:100%;\"></div>            <script type=\"text/javascript\">                require([\"plotly\"], function(Plotly) {                    window.PLOTLYENV=window.PLOTLYENV || {};                                    if (document.getElementById(\"08348d9e-f82a-4ab9-b2dc-c5a036590569\")) {                    Plotly.newPlot(                        \"08348d9e-f82a-4ab9-b2dc-c5a036590569\",                        [{\"hovertemplate\":\"Median Income ($)=%{x}<br>Rate of Deaths (%)=%{y}<extra></extra>\",\"legendgroup\":\"\",\"marker\":{\"color\":\"red\",\"symbol\":\"circle\",\"line\":{\"color\":\"black\",\"width\":1},\"opacity\":0.5,\"size\":10},\"mode\":\"markers\",\"name\":\"\",\"orientation\":\"v\",\"showlegend\":false,\"x\":[67391.9493670886,59531.72289156626,54710.393939393936,62675.75968992248,76414.57126948774,73356.59683794467,79463.26190476191,70848.0,68256.7627118644,65301.640091116176,61264.726744186046,70635.832,57122.186274509804,54617.48809523809,66049.93434343435,60869.903448275865,56856.25362318841,71023.07486631015,59368.6686746988,76328.86320754717,84416.71,61271.5,60271.221804511275,63423.69739478958,64940.11029411765,56668.257575757576,60345.05970149254,62503.85658914729,61783.78899082569,56987.78544061303,61468.444444444445,85531.58541666667,60447.64220183486,69094.56060606061,80893.40961098399,63358.92718446602,57836.73821989529,61035.87425149701,61732.820792079205,70324.10344827586,61892.08653846154,57311.15094339623,65155.44094488189,69834.75202156334,65617.5081967213,83202.19873817035,58477.77777777778,70616.18766066838,60684.20823798627,56309.47474747475,68956.0],\"xaxis\":\"x\",\"y\":[0.6211180124223602,1.9964507542147296,0.8873114463176575,4.658385093167702,16.237799467613133,2.7950310559006213,0.3105590062111801,0.4880212954747116,0.354924578527063,6.033717834960071,2.7062999112688555,0.4880212954747116,0.5323868677905945,0.6211180124223602,2.484472049689441,1.774622892635315,1.064773735581189,1.774622892635315,2.085181898846495,0.9760425909494232,1.5971606033717833,0.44365572315882873,1.5971606033717833,1.375332741792369,2.5732031943212066,0.9760425909494232,0.4880212954747116,2.9281277728482697,0.1774622892635315,0.6211180124223602,0.3105590062111801,1.3309671694764862,1.8189884649511978,1.5084294587400178,1.9077196095829636,3.1055900621118013,2.883762200532387,1.419698314108252,1.9964507542147296,0.08873114463176575,1.8189884649511978,0.39929015084294583,2.484472049689441,8.873114463176575,0.9760425909494232,1.9077196095829636,0.13309671694764863,2.2626441881100265,1.8633540372670807,0.9316770186335404,0.3105590062111801],\"yaxis\":\"y\",\"type\":\"scatter\"}],                        {\"template\":{\"data\":{\"histogram2dcontour\":[{\"type\":\"histogram2dcontour\",\"colorbar\":{\"outlinewidth\":0,\"ticks\":\"\"},\"colorscale\":[[0.0,\"#0d0887\"],[0.1111111111111111,\"#46039f\"],[0.2222222222222222,\"#7201a8\"],[0.3333333333333333,\"#9c179e\"],[0.4444444444444444,\"#bd3786\"],[0.5555555555555556,\"#d8576b\"],[0.6666666666666666,\"#ed7953\"],[0.7777777777777778,\"#fb9f3a\"],[0.8888888888888888,\"#fdca26\"],[1.0,\"#f0f921\"]]}],\"choropleth\":[{\"type\":\"choropleth\",\"colorbar\":{\"outlinewidth\":0,\"ticks\":\"\"}}],\"histogram2d\":[{\"type\":\"histogram2d\",\"colorbar\":{\"outlinewidth\":0,\"ticks\":\"\"},\"colorscale\":[[0.0,\"#0d0887\"],[0.1111111111111111,\"#46039f\"],[0.2222222222222222,\"#7201a8\"],[0.3333333333333333,\"#9c179e\"],[0.4444444444444444,\"#bd3786\"],[0.5555555555555556,\"#d8576b\"],[0.6666666666666666,\"#ed7953\"],[0.7777777777777778,\"#fb9f3a\"],[0.8888888888888888,\"#fdca26\"],[1.0,\"#f0f921\"]]}],\"heatmap\":[{\"type\":\"heatmap\",\"colorbar\":{\"outlinewidth\":0,\"ticks\":\"\"},\"colorscale\":[[0.0,\"#0d0887\"],[0.1111111111111111,\"#46039f\"],[0.2222222222222222,\"#7201a8\"],[0.3333333333333333,\"#9c179e\"],[0.4444444444444444,\"#bd3786\"],[0.5555555555555556,\"#d8576b\"],[0.6666666666666666,\"#ed7953\"],[0.7777777777777778,\"#fb9f3a\"],[0.8888888888888888,\"#fdca26\"],[1.0,\"#f0f921\"]]}],\"heatmapgl\":[{\"type\":\"heatmapgl\",\"colorbar\":{\"outlinewidth\":0,\"ticks\":\"\"},\"colorscale\":[[0.0,\"#0d0887\"],[0.1111111111111111,\"#46039f\"],[0.2222222222222222,\"#7201a8\"],[0.3333333333333333,\"#9c179e\"],[0.4444444444444444,\"#bd3786\"],[0.5555555555555556,\"#d8576b\"],[0.6666666666666666,\"#ed7953\"],[0.7777777777777778,\"#fb9f3a\"],[0.8888888888888888,\"#fdca26\"],[1.0,\"#f0f921\"]]}],\"contourcarpet\":[{\"type\":\"contourcarpet\",\"colorbar\":{\"outlinewidth\":0,\"ticks\":\"\"}}],\"contour\":[{\"type\":\"contour\",\"colorbar\":{\"outlinewidth\":0,\"ticks\":\"\"},\"colorscale\":[[0.0,\"#0d0887\"],[0.1111111111111111,\"#46039f\"],[0.2222222222222222,\"#7201a8\"],[0.3333333333333333,\"#9c179e\"],[0.4444444444444444,\"#bd3786\"],[0.5555555555555556,\"#d8576b\"],[0.6666666666666666,\"#ed7953\"],[0.7777777777777778,\"#fb9f3a\"],[0.8888888888888888,\"#fdca26\"],[1.0,\"#f0f921\"]]}],\"surface\":[{\"type\":\"surface\",\"colorbar\":{\"outlinewidth\":0,\"ticks\":\"\"},\"colorscale\":[[0.0,\"#0d0887\"],[0.1111111111111111,\"#46039f\"],[0.2222222222222222,\"#7201a8\"],[0.3333333333333333,\"#9c179e\"],[0.4444444444444444,\"#bd3786\"],[0.5555555555555556,\"#d8576b\"],[0.6666666666666666,\"#ed7953\"],[0.7777777777777778,\"#fb9f3a\"],[0.8888888888888888,\"#fdca26\"],[1.0,\"#f0f921\"]]}],\"mesh3d\":[{\"type\":\"mesh3d\",\"colorbar\":{\"outlinewidth\":0,\"ticks\":\"\"}}],\"scatter\":[{\"fillpattern\":{\"fillmode\":\"overlay\",\"size\":10,\"solidity\":0.2},\"type\":\"scatter\"}],\"parcoords\":[{\"type\":\"parcoords\",\"line\":{\"colorbar\":{\"outlinewidth\":0,\"ticks\":\"\"}}}],\"scatterpolargl\":[{\"type\":\"scatterpolargl\",\"marker\":{\"colorbar\":{\"outlinewidth\":0,\"ticks\":\"\"}}}],\"bar\":[{\"error_x\":{\"color\":\"#2a3f5f\"},\"error_y\":{\"color\":\"#2a3f5f\"},\"marker\":{\"line\":{\"color\":\"#E5ECF6\",\"width\":0.5},\"pattern\":{\"fillmode\":\"overlay\",\"size\":10,\"solidity\":0.2}},\"type\":\"bar\"}],\"scattergeo\":[{\"type\":\"scattergeo\",\"marker\":{\"colorbar\":{\"outlinewidth\":0,\"ticks\":\"\"}}}],\"scatterpolar\":[{\"type\":\"scatterpolar\",\"marker\":{\"colorbar\":{\"outlinewidth\":0,\"ticks\":\"\"}}}],\"histogram\":[{\"marker\":{\"pattern\":{\"fillmode\":\"overlay\",\"size\":10,\"solidity\":0.2}},\"type\":\"histogram\"}],\"scattergl\":[{\"type\":\"scattergl\",\"marker\":{\"colorbar\":{\"outlinewidth\":0,\"ticks\":\"\"}}}],\"scatter3d\":[{\"type\":\"scatter3d\",\"line\":{\"colorbar\":{\"outlinewidth\":0,\"ticks\":\"\"}},\"marker\":{\"colorbar\":{\"outlinewidth\":0,\"ticks\":\"\"}}}],\"scattermapbox\":[{\"type\":\"scattermapbox\",\"marker\":{\"colorbar\":{\"outlinewidth\":0,\"ticks\":\"\"}}}],\"scatterternary\":[{\"type\":\"scatterternary\",\"marker\":{\"colorbar\":{\"outlinewidth\":0,\"ticks\":\"\"}}}],\"scattercarpet\":[{\"type\":\"scattercarpet\",\"marker\":{\"colorbar\":{\"outlinewidth\":0,\"ticks\":\"\"}}}],\"carpet\":[{\"aaxis\":{\"endlinecolor\":\"#2a3f5f\",\"gridcolor\":\"white\",\"linecolor\":\"white\",\"minorgridcolor\":\"white\",\"startlinecolor\":\"#2a3f5f\"},\"baxis\":{\"endlinecolor\":\"#2a3f5f\",\"gridcolor\":\"white\",\"linecolor\":\"white\",\"minorgridcolor\":\"white\",\"startlinecolor\":\"#2a3f5f\"},\"type\":\"carpet\"}],\"table\":[{\"cells\":{\"fill\":{\"color\":\"#EBF0F8\"},\"line\":{\"color\":\"white\"}},\"header\":{\"fill\":{\"color\":\"#C8D4E3\"},\"line\":{\"color\":\"white\"}},\"type\":\"table\"}],\"barpolar\":[{\"marker\":{\"line\":{\"color\":\"#E5ECF6\",\"width\":0.5},\"pattern\":{\"fillmode\":\"overlay\",\"size\":10,\"solidity\":0.2}},\"type\":\"barpolar\"}],\"pie\":[{\"automargin\":true,\"type\":\"pie\"}]},\"layout\":{\"autotypenumbers\":\"strict\",\"colorway\":[\"#636efa\",\"#EF553B\",\"#00cc96\",\"#ab63fa\",\"#FFA15A\",\"#19d3f3\",\"#FF6692\",\"#B6E880\",\"#FF97FF\",\"#FECB52\"],\"font\":{\"color\":\"#2a3f5f\"},\"hovermode\":\"closest\",\"hoverlabel\":{\"align\":\"left\"},\"paper_bgcolor\":\"white\",\"plot_bgcolor\":\"#E5ECF6\",\"polar\":{\"bgcolor\":\"#E5ECF6\",\"angularaxis\":{\"gridcolor\":\"white\",\"linecolor\":\"white\",\"ticks\":\"\"},\"radialaxis\":{\"gridcolor\":\"white\",\"linecolor\":\"white\",\"ticks\":\"\"}},\"ternary\":{\"bgcolor\":\"#E5ECF6\",\"aaxis\":{\"gridcolor\":\"white\",\"linecolor\":\"white\",\"ticks\":\"\"},\"baxis\":{\"gridcolor\":\"white\",\"linecolor\":\"white\",\"ticks\":\"\"},\"caxis\":{\"gridcolor\":\"white\",\"linecolor\":\"white\",\"ticks\":\"\"}},\"coloraxis\":{\"colorbar\":{\"outlinewidth\":0,\"ticks\":\"\"}},\"colorscale\":{\"sequential\":[[0.0,\"#0d0887\"],[0.1111111111111111,\"#46039f\"],[0.2222222222222222,\"#7201a8\"],[0.3333333333333333,\"#9c179e\"],[0.4444444444444444,\"#bd3786\"],[0.5555555555555556,\"#d8576b\"],[0.6666666666666666,\"#ed7953\"],[0.7777777777777778,\"#fb9f3a\"],[0.8888888888888888,\"#fdca26\"],[1.0,\"#f0f921\"]],\"sequentialminus\":[[0.0,\"#0d0887\"],[0.1111111111111111,\"#46039f\"],[0.2222222222222222,\"#7201a8\"],[0.3333333333333333,\"#9c179e\"],[0.4444444444444444,\"#bd3786\"],[0.5555555555555556,\"#d8576b\"],[0.6666666666666666,\"#ed7953\"],[0.7777777777777778,\"#fb9f3a\"],[0.8888888888888888,\"#fdca26\"],[1.0,\"#f0f921\"]],\"diverging\":[[0,\"#8e0152\"],[0.1,\"#c51b7d\"],[0.2,\"#de77ae\"],[0.3,\"#f1b6da\"],[0.4,\"#fde0ef\"],[0.5,\"#f7f7f7\"],[0.6,\"#e6f5d0\"],[0.7,\"#b8e186\"],[0.8,\"#7fbc41\"],[0.9,\"#4d9221\"],[1,\"#276419\"]]},\"xaxis\":{\"gridcolor\":\"white\",\"linecolor\":\"white\",\"ticks\":\"\",\"title\":{\"standoff\":15},\"zerolinecolor\":\"white\",\"automargin\":true,\"zerolinewidth\":2},\"yaxis\":{\"gridcolor\":\"white\",\"linecolor\":\"white\",\"ticks\":\"\",\"title\":{\"standoff\":15},\"zerolinecolor\":\"white\",\"automargin\":true,\"zerolinewidth\":2},\"scene\":{\"xaxis\":{\"backgroundcolor\":\"#E5ECF6\",\"gridcolor\":\"white\",\"linecolor\":\"white\",\"showbackground\":true,\"ticks\":\"\",\"zerolinecolor\":\"white\",\"gridwidth\":2},\"yaxis\":{\"backgroundcolor\":\"#E5ECF6\",\"gridcolor\":\"white\",\"linecolor\":\"white\",\"showbackground\":true,\"ticks\":\"\",\"zerolinecolor\":\"white\",\"gridwidth\":2},\"zaxis\":{\"backgroundcolor\":\"#E5ECF6\",\"gridcolor\":\"white\",\"linecolor\":\"white\",\"showbackground\":true,\"ticks\":\"\",\"zerolinecolor\":\"white\",\"gridwidth\":2}},\"shapedefaults\":{\"line\":{\"color\":\"#2a3f5f\"}},\"annotationdefaults\":{\"arrowcolor\":\"#2a3f5f\",\"arrowhead\":0,\"arrowwidth\":1},\"geo\":{\"bgcolor\":\"white\",\"landcolor\":\"#E5ECF6\",\"subunitcolor\":\"white\",\"showland\":true,\"showlakes\":true,\"lakecolor\":\"white\"},\"title\":{\"x\":0.05},\"mapbox\":{\"style\":\"light\"}}},\"xaxis\":{\"anchor\":\"y\",\"domain\":[0.0,1.0],\"title\":{\"text\":\"Median Income ($)\"}},\"yaxis\":{\"anchor\":\"x\",\"domain\":[0.0,1.0],\"title\":{\"text\":\"Rate of Deaths (%)\"}},\"legend\":{\"tracegroupgap\":0},\"title\":{\"text\":\"Correlation between Median Household Income and Death Rate by State\"},\"showlegend\":false},                        {\"responsive\": true}                    ).then(function(){\n",
       "                            \n",
       "var gd = document.getElementById('08348d9e-f82a-4ab9-b2dc-c5a036590569');\n",
       "var x = new MutationObserver(function (mutations, observer) {{\n",
       "        var display = window.getComputedStyle(gd).display;\n",
       "        if (!display || display === 'none') {{\n",
       "            console.log([gd, 'removed!']);\n",
       "            Plotly.purge(gd);\n",
       "            observer.disconnect();\n",
       "        }}\n",
       "}});\n",
       "\n",
       "// Listen for the removal of the full notebook cells\n",
       "var notebookContainer = gd.closest('#notebook-container');\n",
       "if (notebookContainer) {{\n",
       "    x.observe(notebookContainer, {childList: true});\n",
       "}}\n",
       "\n",
       "// Listen for the clearing of the current output cell\n",
       "var outputEl = gd.closest('.output');\n",
       "if (outputEl) {{\n",
       "    x.observe(outputEl, {childList: true});\n",
       "}}\n",
       "\n",
       "                        })                };                });            </script>        </div>"
      ]
     },
     "metadata": {},
     "output_type": "display_data"
    }
   ],
   "source": [
    "import plotly.express as px\n",
    "\n",
    "fig = px.scatter(combined_median_income, x='Median Income', y='rate_of_deaths', \n",
    "                 title='Correlation between Median Household Income and Death Rate by State',\n",
    "                 labels={'Median Income': 'Median Income ($)', 'rate_of_deaths': 'Rate of Deaths (%)'})\n",
    "\n",
    "fig.update_traces(marker=dict(color='red', size=10, opacity=0.5, line=dict(width=1, color='black')),\n",
    "                  selector=dict(mode='markers'))\n",
    "fig.update_layout(showlegend=False)\n",
    "\n",
    "fig.show()\n"
   ]
  },
  {
   "cell_type": "code",
   "execution_count": 63,
   "id": "97558e79",
   "metadata": {},
   "outputs": [
    {
     "name": "stdout",
     "output_type": "stream",
     "text": [
      "This table shows the proportion of different races in each state, including the share of non-white races.\n",
      "                 share_white  share_black  share_asian  share_native_american  share_hispanic       total  share of non-white races\n",
      "Geographic area                                                                                                                    \n",
      "AK                 45.650000     0.567330     1.388352              45.864773        2.149148   95.619602                      52.0\n",
      "AL                 72.507266    23.322318     0.479758               0.659343        2.980104   99.948789                      27.0\n",
      "AR                 78.449538    16.296858     0.477079               0.759889        4.273013  100.256377                      22.0\n",
      "AZ                 59.929047     0.954545     0.726608              28.589800       20.144568  110.344568                      46.0\n",
      "CA                 71.866293     2.692018     5.568206               1.723087       29.649868  111.499472                      36.0\n",
      "CO                 87.768341     0.917686     1.154803               1.624891       17.898690  109.364410                      20.0\n",
      "CT                 86.105594     4.992308     2.989510               0.656643        7.975524  102.719580                      16.0\n",
      "DC                 38.500000    50.700000     3.500000               0.300000        9.100000  102.100000                      62.0\n",
      "DE                 76.246053    15.393421     2.000000               0.523684        7.417105  101.580263                      25.0\n",
      "FL                 78.672500    13.370870     1.616739               0.455435       16.529130  110.644674                      29.0\n",
      "GA                 62.591534    30.633546     1.491534               0.300319        6.415176  101.432109                      38.0\n",
      "HI                 33.369536     1.070861    25.654967               0.388079       10.358278   70.841722                      53.0\n",
      "IA                 96.705847     0.563528     0.400793               0.271358        2.819029  100.760555                       4.0\n",
      "ID                 88.817621     0.295154     0.487665               2.524670       10.695154  102.820264                      14.0\n",
      "IL                 90.357059     4.704316     1.337454               0.261814        5.170519  101.831163                      11.0\n",
      "IN                 94.823900     1.688270     0.586804               0.275806        3.318182  100.692962                       6.0\n",
      "KS                 92.962593     0.960507     0.426379               1.873174        5.071684  101.294337                       8.0\n",
      "KY                 92.226857     4.421143     0.711048               0.210095        2.225524   99.794667                       8.0\n",
      "LA                 64.814588    30.775476     0.786469               0.957294        2.976533  100.310359                      35.0\n",
      "MA                 89.672016     2.802058     2.853498               0.266255        4.946091  100.539918                      11.0\n",
      "MD                 72.116409    19.463900     2.980116               0.340927        5.931467  100.832819                      28.0\n",
      "ME                 95.686260     0.819847     1.032061               0.545038        1.312977   99.396183                       4.0\n",
      "MI                 90.671532     4.124277     0.954191               1.077023        3.535405  100.362428                      10.0\n",
      "MN                 91.800221     1.000773     1.025717               3.363135        3.153863  100.343709                       9.0\n",
      "MO                 90.443926     5.879397     0.549854               0.544315        2.364820   99.782313                       9.0\n",
      "MS                 53.800000    41.833978     0.546133               1.614641        2.321823  100.116575                      46.0\n",
      "MT                 84.475890     0.226575     0.318904              11.870959        2.192055   99.084384                      15.0\n",
      "NC                 71.516509    20.402300     0.926252               1.788092        6.412855  101.046008                      29.0\n",
      "ND                 92.293766     0.357357     0.293516               5.329925        1.822943  100.097506                       8.0\n",
      "NE                 94.717586     0.420517     0.291897               1.559828        4.070172  101.060000                       6.0\n",
      "NH                 95.681250     0.715625     1.342708               0.287500        1.744792   99.771875                       4.0\n",
      "NJ                 80.889541     6.975046     5.944771               0.257064       11.122936  105.189358                      23.0\n",
      "NM                 65.418510     0.667043     0.493905              15.340406       45.434537  127.354402                      49.0\n",
      "NV                 82.326357     1.567442     2.006977               5.576744       13.173643  104.651163                      21.0\n",
      "NY                 88.878301     4.007738     2.719344               0.361312        6.629184  102.595879                      13.0\n",
      "OH                 92.804070     3.959967     0.751495               0.215033        2.130399   99.860963                       7.0\n",
      "OK                 72.925784     3.376262     0.426467              14.382128        5.696453   96.807094                      25.0\n",
      "OR                 87.625532     0.529521     1.382447               2.588564        9.776862  101.902926                      14.0\n",
      "PA                 93.253231     3.270238     0.989002               0.161565        2.732540  100.406576                       7.0\n",
      "RI                 89.226471     2.988235     1.688235               0.670588        6.667647  101.241176                      12.0\n",
      "SC                 61.975696    32.834430     0.740000               0.462785        4.475443  100.488354                      38.0\n",
      "SD                 84.817692     0.290000     0.317949              12.026667        2.036923   99.489231                      15.0\n",
      "TN                 88.947086     7.302797     0.637296               0.316550        2.856177  100.059907                      11.0\n",
      "TX                 82.591934     5.879748     1.014760               0.658867       39.364874  129.510183                      36.0\n",
      "UT                 89.443252     0.384969     0.770859               3.870245        7.663190  102.132515                      12.0\n",
      "VA                 74.597124    16.510829     3.669036               0.342301        6.152961  101.272250                      26.0\n",
      "VT                 95.866387     0.770588     0.910084               0.369748        1.379832   99.296639                       3.0\n",
      "WA                 82.375955     1.426592     3.074522               3.750318       10.608439  101.235828                      19.0\n",
      "WI                 92.960543     0.937257     0.790815               2.620310        3.323286  100.632212                       8.0\n",
      "WV                 95.035411     2.915212     0.341147               0.200249        0.904239   99.396259                       4.0\n",
      "WY                 92.373762     0.399505     0.389604               3.095050        6.017822  102.275743                      10.0\n",
      "This table compares the proportion of deaths by police shootings to the population proportion for each race.\n",
      "             Races  Population  Deaths  \\\n",
      "0            white       80.97    0.52   \n",
      "1            black        7.83    0.26   \n",
      "2            asian        1.84    0.02   \n",
      "3         hispanic        7.75    0.18   \n",
      "4  native american        3.61    0.01   \n",
      "\n",
      "  Comparative proportions of population deaths  \n",
      "0                 white - 0.006422131653698901  \n",
      "1                 black - 0.033205619412515965  \n",
      "2                 asian - 0.010869565217391304  \n",
      "3                hispanic - 0.0232258064516129  \n",
      "4       native american - 0.002770083102493075  \n"
     ]
    }
   ],
   "source": [
    "#RACE AND DEATHS BY POLICE\n",
    "race_deaths = deaths_by_police.groupby(['race'])['name'].count()\n",
    "\n",
    "race_proportion = share_of_race_by_city\n",
    "race_proportion.replace('(X)', np.nan, inplace=True)\n",
    "race_proportion.dropna(inplace=True)\n",
    "\n",
    "race_proportion['share_white'] = pd.to_numeric(race_proportion['share_white'])\n",
    "race_proportion['share_black'] = pd.to_numeric(race_proportion['share_black'])\n",
    "race_proportion['share_asian'] = pd.to_numeric(race_proportion['share_asian'])\n",
    "race_proportion['share_hispanic'] = pd.to_numeric(race_proportion['share_hispanic'])\n",
    "race_proportion['share_native_american'] = pd.to_numeric(race_proportion['share_native_american'])\n",
    "\n",
    "\n",
    "white_people_per_state = race_proportion.groupby(['Geographic area'])['share_white'].mean()\n",
    "black_people_per_state = race_proportion.groupby(['Geographic area'])['share_black'].mean()\n",
    "hispanic_people_per_state = race_proportion.groupby(['Geographic area'])['share_hispanic'].mean()\n",
    "native_people_per_state = race_proportion.groupby(['Geographic area'])['share_native_american'].mean()\n",
    "asian_people_per_state = race_proportion.groupby(['Geographic area'])['share_asian'].mean()\n",
    "\n",
    "\n",
    "p1 = pd.merge(white_people_per_state,\n",
    "              black_people_per_state,\n",
    "              right_on=['Geographic area'], left_on=['Geographic area'])\n",
    "\n",
    "p2 = pd.merge(p1, asian_people_per_state, right_on=['Geographic area'], left_on=['Geographic area'])\n",
    "p3 = pd.merge(p2, native_people_per_state, right_on=['Geographic area'], left_on=['Geographic area'])\n",
    "proportion_of_by_state = pd.merge(p3, hispanic_people_per_state, right_on=['Geographic area'],\n",
    "                                  left_on=['Geographic area'])\n",
    "\n",
    "\n",
    "proportion_of_by_state['total'] = proportion_of_by_state['share_white'] +  proportion_of_by_state['share_black'] + proportion_of_by_state['share_asian'] + proportion_of_by_state['share_hispanic'] + proportion_of_by_state['share_native_american']\n",
    "proportion_of_by_state['share of non-white races'] = round(((proportion_of_by_state['share_black'] + proportion_of_by_state['share_asian'] + proportion_of_by_state['share_hispanic'] + proportion_of_by_state['share_native_american']) / proportion_of_by_state['total']) * 100)\n",
    "\n",
    "print(\"This table shows the proportion of different races in each state, including the share of non-white races.\")\n",
    "print(proportion_of_by_state.to_string())\n",
    "\n",
    "p_white = proportion_of_by_state['share_white'].mean()\n",
    "p_black = proportion_of_by_state['share_black'].mean()\n",
    "p_asian = proportion_of_by_state['share_asian'].mean()\n",
    "p_hispanic = proportion_of_by_state['share_hispanic'].mean()\n",
    "p_native_american = proportion_of_by_state['share_native_american'].mean()\n",
    "\n",
    "total_deaths = race_deaths.sum()\n",
    "p_white_d = race_deaths['W'] / total_deaths\n",
    "p_black_d = race_deaths['B'] / total_deaths\n",
    "p_asian_d = race_deaths['A'] / total_deaths\n",
    "p_hispanic_d = race_deaths['H'] / total_deaths\n",
    "p_native_d = race_deaths['N'] / total_deaths\n",
    "\n",
    "\n",
    "deaths_proportion = [round(p_white_d, 2), round(p_black_d, 2), round(p_asian_d, 2), round(p_hispanic_d, 2),\n",
    "                     round(p_native_d, 2)]\n",
    "pop_proportion = [round(p_white, 2), round(p_black, 2), round(p_asian, 2), round(p_hispanic, 2),\n",
    "                  round(p_native_american, 2)]\n",
    "races = ['white', 'black', 'asian', 'hispanic', 'native american']\n",
    "\n",
    "comparative_proportions = [round(p_white_d, 2) / round(p_white, 2),\n",
    "                           round(p_black_d, 2) / round(p_black, 2),\n",
    "                           round(p_asian_d, 2) / round(p_asian, 2),\n",
    "                           round(p_hispanic_d, 2) / round(p_hispanic, 2),\n",
    "                           round(p_native_d, 2) / round(p_native_american, 2)]\n",
    "\n",
    "\n",
    "comparative_race_proportions = [f'{race} - {comp}' for race, comp in zip(races, comparative_proportions)]\n",
    "\n",
    "race_sorted_deaths = pd.DataFrame({'Races': races, 'Population': pop_proportion, 'Deaths': deaths_proportion,\n",
    "                                   'Comparative proportions of population deaths': comparative_race_proportions})\n",
    "\n",
    "\n",
    "print(\"This table compares the proportion of deaths by police shootings to the population proportion for each race.\")\n",
    "print(race_sorted_deaths)\n"
   ]
  },
  {
   "cell_type": "code",
   "execution_count": 97,
   "id": "0d21d277",
   "metadata": {},
   "outputs": [
    {
     "name": "stdout",
     "output_type": "stream",
     "text": [
      "This table compares the proportion of deaths by police shootings to the population proportion for each race.\n",
      "             Races  Population  Deaths  \\\n",
      "0            white       80.97    0.52   \n",
      "1            black        7.83    0.26   \n",
      "2            asian        1.84    0.02   \n",
      "3         hispanic        7.75    0.18   \n",
      "4  native american        3.61    0.01   \n",
      "\n",
      "  Comparative proportions of population deaths  \n",
      "0                 white - 0.006422131653698901  \n",
      "1                 black - 0.033205619412515965  \n",
      "2                 asian - 0.010869565217391304  \n",
      "3                hispanic - 0.0232258064516129  \n",
      "4       native american - 0.002770083102493075  \n"
     ]
    }
   ],
   "source": [
    "\n",
    "print(\"This table compares the proportion of deaths by police shootings to the population proportion for each race.\")\n",
    "print(race_sorted_deaths)\n"
   ]
  },
  {
   "cell_type": "code",
   "execution_count": null,
   "id": "e9bc5e39",
   "metadata": {},
   "outputs": [],
   "source": []
  }
 ],
 "metadata": {
  "kernelspec": {
   "display_name": "Python 3 (ipykernel)",
   "language": "python",
   "name": "python3"
  },
  "language_info": {
   "codemirror_mode": {
    "name": "ipython",
    "version": 3
   },
   "file_extension": ".py",
   "mimetype": "text/x-python",
   "name": "python",
   "nbconvert_exporter": "python",
   "pygments_lexer": "ipython3",
   "version": "3.10.9"
  }
 },
 "nbformat": 4,
 "nbformat_minor": 5
}
